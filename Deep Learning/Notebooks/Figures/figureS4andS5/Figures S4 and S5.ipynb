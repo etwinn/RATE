{
 "cells": [
  {
   "cell_type": "markdown",
   "metadata": {},
   "source": [
    "# Variable Importance for a Bayesian neural network trained on MNIST"
   ]
  },
  {
   "cell_type": "code",
   "execution_count": 1,
   "metadata": {},
   "outputs": [
    {
     "name": "stderr",
     "output_type": "stream",
     "text": [
      "/home/jsi17/anaconda3/envs/rate-bnn/lib/python3.7/importlib/_bootstrap.py:219: RuntimeWarning: numpy.ufunc size changed, may indicate binary incompatibility. Expected 216, got 192\n",
      "  return f(*args, **kwds)\n",
      "/home/jsi17/anaconda3/envs/rate-bnn/lib/python3.7/importlib/_bootstrap.py:219: ImportWarning: can't resolve package from __spec__ or __package__, falling back on __name__ and __path__\n",
      "  return f(*args, **kwds)\n",
      "/home/jsi17/anaconda3/envs/rate-bnn/lib/python3.7/importlib/_bootstrap.py:219: RuntimeWarning: numpy.ufunc size changed, may indicate binary incompatibility. Expected 216, got 192\n",
      "  return f(*args, **kwds)\n",
      "/home/jsi17/anaconda3/envs/rate-bnn/lib/python3.7/importlib/_bootstrap.py:219: ImportWarning: can't resolve package from __spec__ or __package__, falling back on __name__ and __path__\n",
      "  return f(*args, **kwds)\n",
      "/home/jsi17/anaconda3/envs/rate-bnn/lib/python3.7/importlib/_bootstrap.py:219: RuntimeWarning: numpy.ufunc size changed, may indicate binary incompatibility. Expected 192 from C header, got 216 from PyObject\n",
      "  return f(*args, **kwds)\n",
      "/home/jsi17/anaconda3/envs/rate-bnn/lib/python3.7/importlib/_bootstrap.py:219: RuntimeWarning: numpy.ufunc size changed, may indicate binary incompatibility. Expected 192 from C header, got 216 from PyObject\n",
      "  return f(*args, **kwds)\n",
      "/home/jsi17/anaconda3/envs/rate-bnn/lib/python3.7/importlib/_bootstrap.py:219: RuntimeWarning: numpy.ufunc size changed, may indicate binary incompatibility. Expected 192 from C header, got 216 from PyObject\n",
      "  return f(*args, **kwds)\n"
     ]
    }
   ],
   "source": [
    "import numpy as np\n",
    "import pandas as pd\n",
    "import tensorflow as tf\n",
    "import tensorflow_probability as tfp\n",
    "import matplotlib.pyplot as plt\n",
    "%matplotlib inline\n",
    "from mpl_toolkits.axes_grid1 import make_axes_locatable\n",
    "import seaborn as sns\n",
    "from scipy.stats import spearmanr\n",
    "\n",
    "from tensorflow.keras.callbacks import EarlyStopping\n",
    "\n",
    "# To import scripts from different directory\n",
    "import os,sys,inspect\n",
    "current_dir = os.path.dirname(os.path.abspath(inspect.getfile(inspect.currentframe())))\n",
    "parent_dir = os.path.dirname(current_dir)\n",
    "sys.path.insert(0, \"/\".join([parent_dir, \"src\"]))\n",
    "\n",
    "from utils import *\n",
    "from BayesNN_Keras import BNN_Classifier\n",
    "from rate_bnn import *"
   ]
  },
  {
   "cell_type": "code",
   "execution_count": 2,
   "metadata": {},
   "outputs": [
    {
     "name": "stdout",
     "output_type": "stream",
     "text": [
      "x_train has shape (60000, 324)\n",
      "y_train has shape (60000, 10)\n",
      "x_test has shape (10000, 324)\n",
      "y_test has shape (10000, 10)\n"
     ]
    }
   ],
   "source": [
    "# Load data - one-hot encoded labels\n",
    "# Need to crop 5 pixels from the edges of the images to prevent numerical problems with RATE \n",
    "crop_size = 5\n",
    "x_train, y_train, x_test, y_test = load_mnist(True, True, crop_size)\n",
    "n_train = x_train.shape[0]\n",
    "n_test = x_test.shape[0]\n",
    "image_size = int(x_train.shape[1]**0.5)"
   ]
  },
  {
   "cell_type": "markdown",
   "metadata": {},
   "source": [
    "Now train the network and evaluate on the test set using 20 MC samples:"
   ]
  },
  {
   "cell_type": "code",
   "execution_count": 3,
   "metadata": {
    "scrolled": false
   },
   "outputs": [
    {
     "name": "stdout",
     "output_type": "stream",
     "text": [
      "WARNING:tensorflow:From /home/jsi17/anaconda3/envs/rate-bnn/lib/python3.7/site-packages/tensorflow/python/ops/resource_variable_ops.py:435: colocate_with (from tensorflow.python.framework.ops) is deprecated and will be removed in a future version.\n",
      "Instructions for updating:\n",
      "Colocations handled automatically by placer.\n",
      "Train on 48000 samples, validate on 12000 samples\n",
      "WARNING:tensorflow:From /home/jsi17/anaconda3/envs/rate-bnn/lib/python3.7/site-packages/tensorflow/python/ops/math_ops.py:3066: to_int32 (from tensorflow.python.ops.math_ops) is deprecated and will be removed in a future version.\n",
      "Instructions for updating:\n",
      "Use tf.cast instead.\n"
     ]
    },
    {
     "name": "stderr",
     "output_type": "stream",
     "text": [
      "/home/jsi17/anaconda3/envs/rate-bnn/lib/python3.7/site-packages/numpy/lib/type_check.py:546: DeprecationWarning: np.asscalar(a) is deprecated since NumPy v1.16, use a.item() instead\n",
      "  'a.item() instead', DeprecationWarning, stacklevel=1)\n"
     ]
    },
    {
     "name": "stdout",
     "output_type": "stream",
     "text": [
      "Epoch 1/20\n",
      "48000/48000 [==============================] - 3s 70us/sample - loss: 12600.7207 - acc: 0.9349 - val_loss: 12096.6948 - val_acc: 0.9687\n",
      "Epoch 2/20\n",
      "48000/48000 [==============================] - 2s 37us/sample - loss: 11626.5078 - acc: 0.9766 - val_loss: 11158.2395 - val_acc: 0.9748\n",
      "Epoch 3/20\n",
      "48000/48000 [==============================] - 2s 38us/sample - loss: 10695.8097 - acc: 0.9818 - val_loss: 10235.9537 - val_acc: 0.9804\n",
      "Epoch 4/20\n",
      "48000/48000 [==============================] - 2s 38us/sample - loss: 9782.8469 - acc: 0.9839 - val_loss: 9334.4106 - val_acc: 0.9778\n",
      "Epoch 5/20\n",
      "48000/48000 [==============================] - 2s 37us/sample - loss: 8886.1061 - acc: 0.9857 - val_loss: 8448.4233 - val_acc: 0.9783\n",
      "Test set accuracy is 0.9959 pm 0.00011524811270646751 using 20.0000 MC samples\n"
     ]
    }
   ],
   "source": [
    "# Architecture\n",
    "p = x_train.shape[1]\n",
    "C = y_train.shape[1]\n",
    "\n",
    "# Training settings\n",
    "n_epochs = 20\n",
    "batch_size = 256\n",
    "\n",
    "# Test settings - the number of posterior samples\n",
    "n_test_samples = 20\n",
    "\n",
    "# Network architecture\n",
    "layers = []\n",
    "layers.append(tf.keras.layers.Reshape([image_size, image_size, 1], input_shape=(p,)))\n",
    "layers.append(tf.keras.layers.Conv2D(32, (5, 5), activation='relu'))\n",
    "layers.append(tf.layers.Flatten())\n",
    "layers.append(tf.keras.layers.Dense(512, activation='relu'))\n",
    "layers.append(tfp.layers.DenseLocalReparameterization(C))\n",
    "\n",
    "bnn = BNN_Classifier(layers, p, C)\n",
    "fit_history = bnn.fit(x_train, y_train, epochs=n_epochs, batch_size=batch_size,\n",
    "                      validation_split=0.2,\n",
    "                     callbacks=[EarlyStopping(monitor=\"val_acc\", patience=2)])\n",
    "\n",
    "test_score = bnn.score(x_test, y_test, n_test_samples, True)\n",
    "print(\"Test set accuracy is {:.4f} pm {} using {:.4f} MC samples\".format(test_score[0], test_score[1], n_test_samples))"
   ]
  },
  {
   "cell_type": "markdown",
   "metadata": {},
   "source": [
    "## Compute RATE values\n",
    "\n",
    "One RATE value per class per pixel in multi-class case"
   ]
  },
  {
   "cell_type": "code",
   "execution_count": 4,
   "metadata": {},
   "outputs": [
    {
     "name": "stdout",
     "output_type": "stream",
     "text": [
      "Computing RATE with 324 variables\n",
      "Variable #: 0 100 200 300 done\n",
      "Computing RATE with 324 variables\n",
      "Variable #: 0 100 200 300 done\n",
      "Computing RATE with 324 variables\n",
      "Variable #: 0 100 200 300 done\n",
      "Computing RATE with 324 variables\n",
      "Variable #: 0 100 200 300 done\n",
      "Computing RATE with 324 variables\n",
      "Variable #: 0 100 200 300 done\n",
      "Computing RATE with 324 variables\n",
      "Variable #: 0 100 200 300 done\n",
      "Computing RATE with 324 variables\n",
      "Variable #: 0 100 200 300 done\n",
      "Computing RATE with 324 variables\n",
      "Variable #: 0 100 200 300 done\n",
      "Computing RATE with 324 variables\n",
      "Variable #: 0 100 200 300 done\n",
      "Computing RATE with 324 variables\n",
      "Variable #: 0 100 200 300 done\n"
     ]
    }
   ],
   "source": [
    "rate, _ = RATE_BNN(bnn, x_test)"
   ]
  },
  {
   "cell_type": "markdown",
   "metadata": {},
   "source": [
    "# Create Figure A2\n",
    "\n",
    "This visualises the RATE values for each class/node."
   ]
  },
  {
   "cell_type": "code",
   "execution_count": 5,
   "metadata": {
    "scrolled": false
   },
   "outputs": [
    {
     "data": {
      "image/png": "[encoded data removed]",
      "text/plain": [
       "<Figure size 1152x864 with 22 Axes>"
      ]
     },
     "metadata": {
      "needs_background": "light"
     },
     "output_type": "display_data"
    }
   ],
   "source": [
    "plotsize = 4\n",
    "tickfontsize = 16\n",
    "titlefontsize = 20\n",
    "\n",
    "fig, axes = plt.subplots(3, 4, figsize=(4*plotsize, 3*plotsize))\n",
    "\n",
    "for c, ax in enumerate(axes.flat[:10]):\n",
    "    \n",
    "    if c>7:\n",
    "        ax = axes.flat[c+1]\n",
    "    \n",
    "    im = ax.imshow(rate[c].reshape(image_size, image_size),\n",
    "              cmap=\"Reds\", interpolation=\"none\")\n",
    "    \n",
    "    ax.set_title(\"Node {}\".format(c), fontsize=titlefontsize)\n",
    "    \n",
    "    # Colour bar\n",
    "    divider = make_axes_locatable(ax)\n",
    "    cax = divider.append_axes(\"right\", size=\"5%\", pad=0.1)\n",
    "    cb = fig.colorbar(im, cax=cax)\n",
    "    \n",
    "    cb.formatter.set_scientific(True)\n",
    "    cb.formatter.set_powerlimits((0, 0))\n",
    "    cb.ax.yaxis.offsetText.set_fontsize(tickfontsize)\n",
    "    cb.ax.tick_params(\"both\", labelsize=tickfontsize)\n",
    "    cb.update_ticks()\n",
    "\n",
    "    \n",
    "    # Hide tick labels\n",
    "    ax.get_xaxis().set_visible(False)\n",
    "    ax.get_yaxis().set_visible(False)\n",
    "    \n",
    "axes[2,0].axis(\"off\")\n",
    "axes[2,3].axis(\"off\")\n",
    "\n",
    "plt.tight_layout()"
   ]
  },
  {
   "cell_type": "markdown",
   "metadata": {},
   "source": [
    "# Create Figure A3\n",
    "\n",
    "Test accuracy when shuffling all high-RATE pixels or all low-RATE pixels.\n",
    "\n",
    "### Shuffling high-RATE pixels\n",
    "\n",
    "Shuffle any pixel that is significant for any class, where significance is defined as a RATE value strictly larger than $1/p$."
   ]
  },
  {
   "cell_type": "code",
   "execution_count": null,
   "metadata": {
    "scrolled": true
   },
   "outputs": [],
   "source": [
    "sig_pixels = np.unique(np.concatenate([np.where(r > 1.0/r.shape[0])[0] for r in rate], axis=0))\n",
    "\n",
    "\n",
    "n_samples = 20\n",
    "n_shuffle_repeats = 10\n",
    "n_selection_repeats = 10\n",
    "\n",
    "\n",
    "res = {\"RATE\" : [], \"random\" : []}\n",
    "\n",
    "# Select pixels to shuffle according to their RATE values\n",
    "for _ in range(n_shuffle_repeats):\n",
    "    x_test_randomised = np.copy(x_test)\n",
    "    for pix_idx in sig_pixels:\n",
    "        np.random.shuffle(x_test_randomised[:,pix_idx])\n",
    "    res[\"RATE\"].append(bnn.score(x_test, y_test, n_samples))\n",
    "\n",
    "# Select pixels to shuffle at random - the selection step is repeated multiple times\n",
    "for _ in range(n_selection_repeats):\n",
    "    reset_pixel_idxs = np.random.choice(p, size=sig_pixels.shape[0], replace=False)\n",
    "    for _ in range(n_shuffle_repeats):\n",
    "        x_test_randomised = np.copy(x_test)\n",
    "        for pix_idx in reset_pixel_idxs:\n",
    "            np.random.shuffle(x_test_randomised[:,pix_idx])\n",
    "        res[\"random\"].append(bnn.score(x_test, y_test, n_samples))"
   ]
  },
  {
   "cell_type": "markdown",
   "metadata": {},
   "source": [
    "### Shuffling low-RATE pixels"
   ]
  },
  {
   "cell_type": "code",
   "execution_count": null,
   "metadata": {},
   "outputs": [],
   "source": [
    "# Performance of classifer shuffling low-RATE pixels\n",
    "insig_pixels = np.arange(p)[np.in1d(np.arange(p), sig_pixels, invert=True)]\n",
    "\n",
    "res2 = {\"RATE\" : [], \"random\" : []}\n",
    "\n",
    "# Select pixels to shuffle according to their RATE values\n",
    "for _ in range(n_shuffle_repeats):\n",
    "    x_test_randomised = np.copy(x_test)\n",
    "    for pix_idx in insig_pixels:\n",
    "        np.random.shuffle(x_test_randomised[:,pix_idx])\n",
    "    res2[\"RATE\"].append(bnn.score(x_test, y_test, n_samples))\n",
    "\n",
    "# Select pixels to shuffle at random - the selection step is repeated multiple times\n",
    "for _ in range(n_selection_repeats):\n",
    "    reset_pixel_idxs = np.random.choice(p, size=insig_pixels.shape[0], replace=False)\n",
    "    for _ in range(n_shuffle_repeats):\n",
    "        x_test_randomised = np.copy(x_test)\n",
    "        for pix_idx in reset_pixel_idxs:\n",
    "            np.random.shuffle(x_test_randomised[:,pix_idx])\n",
    "        res2[\"random\"].append(bnn.score(x_test, y_test, n_samples))"
   ]
  },
  {
   "cell_type": "markdown",
   "metadata": {},
   "source": [
    "### Create plot"
   ]
  },
  {
   "cell_type": "code",
   "execution_count": null,
   "metadata": {},
   "outputs": [],
   "source": [
    "plotsize = 6\n",
    "tickfontsize = 20\n",
    "plottitlesize = 24\n",
    "axislabelfontsize = 24\n",
    "\n",
    "fig, axes = plt.subplots(1, 2, figsize=(2*plotsize, plotsize), sharey=True)\n",
    "\n",
    "# High RATE\n",
    "df = pd.DataFrame({\"All high-RATE\\npixels shuffled\" : [np.mean(res[\"RATE\"])], \"Random pixels\\nshuffled\" : [np.mean(res[\"random\"])]})\n",
    "\n",
    "sns.barplot(data=100.0*df, yerr=[200.0*np.std(res[\"RATE\"]), 200.0*np.std(res[\"random\"])], ax=axes[0])\n",
    "axes[0].set_ylabel(\"Test set accuracy\", fontsize=axislabelfontsize)\n",
    "\n",
    "axes[0].set_yticklabels([\"{} %\".format(val) for val in np.arange(0, 17, 2)], fontsize=tickfontsize)\n",
    "\n",
    "# Low RATE\n",
    "df = pd.DataFrame({\"All low-RATE\\npixels shuffled\" : [np.mean(res2[\"RATE\"])], \"Random pixels\\nshuffled\" : [np.mean(res2[\"random\"])]})\n",
    "\n",
    "sns.barplot(data=100.0*df, yerr=[200.0*np.std(res2[\"RATE\"]), 200.0*np.std(res2[\"random\"])], ax=axes[1])\n",
    "axes[1].set_ylim([0,100])\n",
    "\n",
    "axes[1].set_yticklabels([\"{} %\".format(val) for val in np.arange(0, 101, 20)], fontsize=tickfontsize)\n",
    "\n",
    "\n",
    "for ax in axes:\n",
    "    ax.axhline(10, color=\"red\", ls=\"--\")\n",
    "    ax.axhline(98.4, color=\"green\", ls=\"--\")\n",
    "    ax.tick_params(axis=\"x\", labelsize=axislabelfontsize)\n",
    "    \n",
    "for i, l in enumerate([\"(A)\", \"(B)\"]):\n",
    "    axes[i].set_title(l, loc=\"left\", weight=\"bold\", fontsize=plottitlesize)\n",
    "\n",
    "plt.tight_layout()"
   ]
  }
 ],
 "metadata": {
  "kernelspec": {
   "display_name": "RATE-BNN (Py 3.7)",
   "language": "python",
   "name": "rate-bnn"
  },
  "language_info": {
   "codemirror_mode": {
    "name": "ipython",
    "version": 3
   },
   "file_extension": ".py",
   "mimetype": "text/x-python",
   "name": "python",
   "nbconvert_exporter": "python",
   "pygments_lexer": "ipython3",
   "version": "3.7.3"
  }
 },
 "nbformat": 4,
 "nbformat_minor": 2
}

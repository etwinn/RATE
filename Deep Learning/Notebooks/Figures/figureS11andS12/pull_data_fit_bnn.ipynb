{
 "cells": [
  {
   "cell_type": "markdown",
   "metadata": {},
   "source": [
    "# Fit BNN to Predict [High Risk] v. [Low or Medium Risk]\n",
    "\n",
    "COMPAS recidivism risk score data and previous analysis available through [ProPublica](https://www.propublica.org/datastore/dataset/compas-recidivism-risk-score-data-and-analysis)."
   ]
  },
  {
   "cell_type": "code",
   "execution_count": 1,
   "metadata": {},
   "outputs": [],
   "source": [
    "import numpy as np\n",
    "import tensorflow as tf\n",
    "import tensorflow_probability as tfp\n",
    "import matplotlib.pyplot as plt\n",
    "%matplotlib inline\n",
    "from mpl_toolkits.axes_grid1 import make_axes_locatable\n",
    "import seaborn as sns\n",
    "from scipy.stats import spearmanr, rankdata\n",
    "import pandas as pd\n",
    "import random\n",
    "import copy\n",
    "import warnings\n",
    "from sklearn.model_selection import train_test_split\n",
    "from sklearn import preprocessing\n",
    "\n",
    "# Import RATE package\n",
    "# See https://github.com/lorinanthony/RATE/tree/master/Software/rate-bnn to install\n",
    "from rate import *"
   ]
  },
  {
   "cell_type": "markdown",
   "metadata": {},
   "source": [
    "## How-To\n",
    "\n",
    "The toggles in the cell below are most important, although there are other tweaks you can make throughout the script.\n",
    "\n",
    "(a) Set `multiclass = True` if you want the outcome to be raw risk class: Low, Medium, High. Leaving `multiclass = False` bins Medium and High into a single group, as Propublica did.\n",
    "\n",
    "(b) Whether you choose to model a binary or multiclass outcome, run all cells in this notebook twice: once with `variables_to_remove = []` and next with `variables_to_remove = ['priors_count']`. Do not restart the kernel between runs. The result is a dataset `rate_data_csv` that may be written to file (uncomment last cell when ready to do so). The contents are first and second order RATE values when all variables are included, and first and second order RATE values when number of prior offenses is omitted.\n",
    "\n",
    "Restart the kernel if you have generated `rate_data_csv` for either the binary or multiclass case and would like to repeat analysis for the remaining case.\n",
    "\n",
    "COMPAS_BNN_RATE.csv and COMPAS_BNN_RATE_multinomialResponse.csv are the files saved if the above instructions are followed in the binary and multiclass case, respectively. These are required to run plot.R, the script that constructs the paper plots."
   ]
  },
  {
   "cell_type": "code",
   "execution_count": 2,
   "metadata": {},
   "outputs": [],
   "source": [
    "# Options for analysis\n",
    "\n",
    "# if True, use raw risk class: Low, Medium, High.\n",
    "# if False, analyze as ProPublica did, binning Medium/High into a single group (this is our primary interest)\n",
    "multiclass = False\n",
    "\n",
    "# At first pass, it is not advised you remove variables\n",
    "variables_to_remove = []\n",
    "# variables_to_remove = ['priors_count']  # Uncomment at second pass, per instructions above"
   ]
  },
  {
   "cell_type": "code",
   "execution_count": 3,
   "metadata": {},
   "outputs": [
    {
     "name": "stderr",
     "output_type": "stream",
     "text": [
      "C:\\Users\\Dana Udwin\\Anaconda3\\envs\\neurips\\lib\\site-packages\\pandas\\core\\frame.py:4025: SettingWithCopyWarning: \n",
      "A value is trying to be set on a copy of a slice from a DataFrame\n",
      "\n",
      "See the caveats in the documentation: http://pandas.pydata.org/pandas-docs/stable/indexing.html#indexing-view-versus-copy\n",
      "  return super(DataFrame, self).rename(**kwargs)\n",
      "C:\\Users\\Dana Udwin\\Anaconda3\\envs\\neurips\\lib\\site-packages\\ipykernel_launcher.py:14: SettingWithCopyWarning: \n",
      "A value is trying to be set on a copy of a slice from a DataFrame.\n",
      "Try using .loc[row_indexer,col_indexer] = value instead\n",
      "\n",
      "See the caveats in the documentation: http://pandas.pydata.org/pandas-docs/stable/indexing.html#indexing-view-versus-copy\n",
      "  \n",
      "C:\\Users\\Dana Udwin\\Anaconda3\\envs\\neurips\\lib\\site-packages\\ipykernel_launcher.py:19: SettingWithCopyWarning: \n",
      "A value is trying to be set on a copy of a slice from a DataFrame.\n",
      "Try using .loc[row_indexer,col_indexer] = value instead\n",
      "\n",
      "See the caveats in the documentation: http://pandas.pydata.org/pandas-docs/stable/indexing.html#indexing-view-versus-copy\n",
      "C:\\Users\\Dana Udwin\\Anaconda3\\envs\\neurips\\lib\\site-packages\\ipykernel_launcher.py:22: SettingWithCopyWarning: \n",
      "A value is trying to be set on a copy of a slice from a DataFrame.\n",
      "Try using .loc[row_indexer,col_indexer] = value instead\n",
      "\n",
      "See the caveats in the documentation: http://pandas.pydata.org/pandas-docs/stable/indexing.html#indexing-view-versus-copy\n"
     ]
    }
   ],
   "source": [
    "# Load COMPAS data\n",
    "raw_data = pd.read_csv('https://raw.githubusercontent.com/propublica/compas-analysis/master/compas-scores-two-years.csv')\n",
    "\n",
    "# Remove missingness as ProPublica did\n",
    "complete_data = raw_data[(raw_data['days_b_screening_arrest'] <= 30) & \n",
    "         (raw_data['days_b_screening_arrest'] >= -30) & \n",
    "         (raw_data['is_recid'] != -1) & \n",
    "         (raw_data['c_charge_degree'] != 'O') & \n",
    "         (raw_data['score_text'] != 'N/A')]\n",
    "\n",
    "# Organize factors same as ProPublica\n",
    "complete_data.rename(index=str, columns={\"c_charge_degree\": \"crime_factor\"}, inplace=True)\n",
    "\n",
    "complete_data['race_factor'] = complete_data['race'].astype('category')\n",
    "complete_data['race_factor'].cat.reorder_categories(['Caucasian', 'African-American', \n",
    "                                             'Asian', 'Hispanic', \n",
    "                                             'Native American', 'Other'], inplace=True)\n",
    "\n",
    "complete_data['gender_factor'] = complete_data['sex'].astype('category')\n",
    "complete_data['gender_factor'].cat.reorder_categories(['Male', 'Female'], inplace=True)\n",
    "\n",
    "complete_data['age_factor'] = complete_data['age_cat']"
   ]
  },
  {
   "cell_type": "code",
   "execution_count": 4,
   "metadata": {},
   "outputs": [
    {
     "name": "stderr",
     "output_type": "stream",
     "text": [
      "C:\\Users\\Dana Udwin\\Anaconda3\\envs\\neurips\\lib\\site-packages\\ipykernel_launcher.py:22: SettingWithCopyWarning: \n",
      "A value is trying to be set on a copy of a slice from a DataFrame.\n",
      "Try using .loc[row_indexer,col_indexer] = value instead\n",
      "\n",
      "See the caveats in the documentation: http://pandas.pydata.org/pandas-docs/stable/indexing.html#indexing-view-versus-copy\n",
      "C:\\Users\\Dana Udwin\\Anaconda3\\envs\\neurips\\lib\\site-packages\\ipykernel_launcher.py:23: SettingWithCopyWarning: \n",
      "A value is trying to be set on a copy of a slice from a DataFrame.\n",
      "Try using .loc[row_indexer,col_indexer] = value instead\n",
      "\n",
      "See the caveats in the documentation: http://pandas.pydata.org/pandas-docs/stable/indexing.html#indexing-view-versus-copy\n"
     ]
    }
   ],
   "source": [
    "# Bin Medium and High together, as ProPublica did, or leave Low, Medium, High as three classes.\n",
    "\n",
    "if multiclass: \n",
    "    # three responses\n",
    "    complete_data['score_factor'] = complete_data['score_text'].astype('category')\n",
    "    complete_data['score_factor'].cat.reorder_categories(['Low', 'Medium', 'High'], inplace=True)\n",
    "    \n",
    "    # One-hot encode features\n",
    "    onehot_predictors = pd.get_dummies(complete_data, \n",
    "                             columns = ['crime_factor', 'age_factor', \n",
    "                                       'race_factor', 'gender_factor'], \n",
    "                            drop_first = True)\n",
    "    \n",
    "    # need three one-hot columns to persist for response\n",
    "    onehot_response = pd.get_dummies(complete_data, columns = ['score_factor'])\n",
    "    response_columns = ['score_factor_Low', 'score_factor_Medium', 'score_factor_High']\n",
    "    \n",
    "    onehot_data = pd.concat([onehot_predictors.reset_index(drop=True), \n",
    "                         onehot_response.ix[:, response_columns].reset_index(drop=True)], axis=1)\n",
    "else: \n",
    "    # binary response: Low v. Medium/High\n",
    "    complete_data['score_factor'] = np.where(complete_data['score_text'] == 'Low', 'LowScore', 'HighScore')\n",
    "    complete_data['score_factor'] = complete_data['score_factor'].astype('category')\n",
    "    complete_data['score_factor'].cat.reorder_categories(['LowScore', 'HighScore'], inplace=True)\n",
    "    \n",
    "    # One-hot encode features\n",
    "    onehot_data = pd.get_dummies(complete_data, \n",
    "                             columns = ['crime_factor', 'age_factor', \n",
    "                                       'race_factor', 'gender_factor', \n",
    "                                       'score_factor'], \n",
    "                            drop_first = True)\n",
    "    \n",
    "    response_columns = ['score_factor_HighScore']"
   ]
  },
  {
   "cell_type": "code",
   "execution_count": 5,
   "metadata": {},
   "outputs": [
    {
     "name": "stderr",
     "output_type": "stream",
     "text": [
      "C:\\Users\\Dana Udwin\\Anaconda3\\envs\\neurips\\lib\\site-packages\\ipykernel_launcher.py:21: DeprecationWarning: \n",
      ".ix is deprecated. Please use\n",
      ".loc for label based indexing or\n",
      ".iloc for positional indexing\n",
      "\n",
      "See the documentation here:\n",
      "http://pandas.pydata.org/pandas-docs/stable/indexing.html#ix-indexer-is-deprecated\n"
     ]
    }
   ],
   "source": [
    "# Use the features ProPublica used, less observed two year recidivism\n",
    "ProPublica_features = ['crime_factor_M', \n",
    "                        'priors_count', \n",
    "                        'age_factor_Greater than 45', \n",
    "                        'age_factor_Less than 25', \n",
    "                        'race_factor_African-American', \n",
    "                        'race_factor_Asian', \n",
    "                        'race_factor_Hispanic', \n",
    "                        'race_factor_Native American', \n",
    "                        'race_factor_Other', \n",
    "                        'gender_factor_Female']\n",
    "\n",
    "# Recall full feature list length (with one-hot) for plots\n",
    "num_ProPublica_features = len(ProPublica_features)\n",
    "\n",
    "# Add response vector\n",
    "model_columns = ProPublica_features  # use ProPublica predictors\n",
    "model_columns.extend(response_columns)  # add response column(s)\n",
    "\n",
    "# Define PANDAS modeling data\n",
    "model_data = onehot_data.ix[:, model_columns]"
   ]
  },
  {
   "cell_type": "code",
   "execution_count": 6,
   "metadata": {},
   "outputs": [],
   "source": [
    "# Remove variables, if user added any to variables_to_remove vector\n",
    "\n",
    "if len(variables_to_remove) > 0:\n",
    "    model_data.drop(variables_to_remove, axis=1, inplace=True)"
   ]
  },
  {
   "cell_type": "code",
   "execution_count": 7,
   "metadata": {},
   "outputs": [
    {
     "name": "stderr",
     "output_type": "stream",
     "text": [
      "C:\\Users\\Dana Udwin\\Anaconda3\\envs\\neurips\\lib\\site-packages\\ipykernel_launcher.py:18: DeprecationWarning: \n",
      ".ix is deprecated. Please use\n",
      ".loc for label based indexing or\n",
      ".iloc for positional indexing\n",
      "\n",
      "See the documentation here:\n",
      "http://pandas.pydata.org/pandas-docs/stable/indexing.html#ix-indexer-is-deprecated\n"
     ]
    }
   ],
   "source": [
    "# Define training and test splits\n",
    "# This is not necessary, as we are not interested in prediction\n",
    "\n",
    "train_test_splits = False\n",
    "\n",
    "if train_test_splits: \n",
    "    x_train, x_test = train_test_split(model_data, test_size=0.2)\n",
    "    y_train_mat = x_train.ix[:, response_columns].values\n",
    "    x_train.drop(columns = response_columns, inplace=True)\n",
    "    bnn_predictors = x_train.columns\n",
    "    x_train_mat = x_train.values\n",
    "    \n",
    "    y_test_mat = x_test.ix[:, response_columns].values\n",
    "    x_test.drop(columns = response_columns, inplace=True)\n",
    "    x_test_mat = x_test.values\n",
    "else: \n",
    "    x_train = model_data\n",
    "    y_train_mat = x_train.ix[:, response_columns].values\n",
    "    y_test_mat = y_train_mat\n",
    "    x_train.drop(columns = response_columns, inplace=True)\n",
    "    bnn_predictors = x_train.columns\n",
    "    x_train_mat = x_train.values\n",
    "    x_test_mat = x_train_mat\n",
    "    \n",
    "n_train = x_train_mat.shape[0]\n",
    "n_test = x_test_mat.shape[0]\n",
    "\n",
    "# Input and output dimensionality\n",
    "p = x_train_mat.shape[1]\n",
    "C = y_train_mat.shape[1]\n",
    "\n",
    "# set up space to save rate values\n",
    "if 'rate_data_csv' not in locals():\n",
    "    rate_data_csv = pd.DataFrame({\"var_names\": ProPublica_features})"
   ]
  },
  {
   "cell_type": "markdown",
   "metadata": {},
   "source": [
    "Now define the network architecture. The BNN class constructor (defined in BayesNN) takes a list of Tensorflow layers. \n",
    "\n",
    "If the layers cannot be combined to make a model the build_model method (called in the constructor) will throw an error. This is usually because of mismatching shapes.\n",
    "\n",
    "The architecture of this network is\n",
    "\n",
    "    flatten -> dense layers -> dense Bayesian layer (-> softmax if making prediction)"
   ]
  },
  {
   "cell_type": "code",
   "execution_count": 8,
   "metadata": {},
   "outputs": [
    {
     "name": "stderr",
     "output_type": "stream",
     "text": [
      "WARNING: Logging before flag parsing goes to stderr.\n",
      "W0715 14:04:52.550825  9736 deprecation.py:506] From C:\\Users\\Dana Udwin\\Anaconda3\\envs\\neurips\\lib\\site-packages\\tensorflow\\python\\ops\\init_ops.py:1251: calling VarianceScaling.__init__ (from tensorflow.python.ops.init_ops) with dtype is deprecated and will be removed in a future version.\n",
      "Instructions for updating:\n",
      "Call initializer instance with the dtype argument instead of passing it to the constructor\n"
     ]
    }
   ],
   "source": [
    "layers = []\n",
    "\n",
    "# num. neurons for reasonable training\n",
    "alpha = 2\n",
    "layer_one_size = np.floor(n_train / (alpha * (p + C)))\n",
    "layer_two_size = np.floor(layer_one_size + C * 2 / 3)\n",
    "\n",
    "# add layers\n",
    "layers.append(tf.keras.layers.Dense(layer_one_size, activation='relu', input_shape = (p,)))\n",
    "layers.append(tf.keras.layers.Dense(layer_one_size, activation='relu'))\n",
    "layers.append(tf.keras.layers.Dense(layer_two_size, activation='relu'))\n",
    "\n",
    "layers.append(tfp.layers.DenseReparameterization(C))  # PREFER DenseLocalReparameterization, but having troubles."
   ]
  },
  {
   "cell_type": "markdown",
   "metadata": {},
   "source": [
    "Now create the BNN object:"
   ]
  },
  {
   "cell_type": "code",
   "execution_count": 9,
   "metadata": {},
   "outputs": [
    {
     "name": "stderr",
     "output_type": "stream",
     "text": [
      "W0715 14:04:53.100710  9736 deprecation.py:323] From C:\\Users\\Dana Udwin\\Anaconda3\\envs\\neurips\\lib\\site-packages\\tensorflow\\python\\ops\\nn_impl.py:180: add_dispatch_support.<locals>.wrapper (from tensorflow.python.ops.array_ops) is deprecated and will be removed in a future version.\n",
      "Instructions for updating:\n",
      "Use tf.where in 2.0, which has the same broadcast rule as np.where\n"
     ]
    }
   ],
   "source": [
    "bnn = BNN_Classifier(layers, p, C)"
   ]
  },
  {
   "cell_type": "markdown",
   "metadata": {},
   "source": [
    "Now train the network by calling the `train` method, which returns the training loss at each epoch and leaves the network trained."
   ]
  },
  {
   "cell_type": "code",
   "execution_count": 10,
   "metadata": {},
   "outputs": [
    {
     "name": "stdout",
     "output_type": "stream",
     "text": [
      "Epoch 1/100\n",
      "6172/6172 [==============================] - 1s 135us/sample - loss: 715.4353 - acc: 0.7202\n",
      "Epoch 2/100\n",
      "6172/6172 [==============================] - 1s 105us/sample - loss: 645.3450 - acc: 0.7285\n",
      "Epoch 3/100\n",
      "6172/6172 [==============================] - 1s 105us/sample - loss: 577.0815 - acc: 0.7263\n",
      "Epoch 4/100\n",
      "6172/6172 [==============================] - 1s 106us/sample - loss: 510.5973 - acc: 0.7234\n",
      "Epoch 5/100\n",
      "6172/6172 [==============================] - 1s 100us/sample - loss: 445.8768 - acc: 0.7187\n",
      "Epoch 6/100\n",
      "6172/6172 [==============================] - 1s 101us/sample - loss: 383.5995 - acc: 0.7238\n",
      "Epoch 7/100\n",
      "6172/6172 [==============================] - 1s 101us/sample - loss: 324.1237 - acc: 0.7223\n",
      "Epoch 8/100\n",
      "6172/6172 [==============================] - 1s 92us/sample - loss: 268.7270 - acc: 0.7092\n",
      "Epoch 9/100\n",
      "6172/6172 [==============================] - 1s 96us/sample - loss: 217.7350 - acc: 0.7122\n",
      "Epoch 10/100\n",
      "6172/6172 [==============================] - 1s 114us/sample - loss: 171.8536 - acc: 0.7056\n",
      "Epoch 11/100\n",
      "6172/6172 [==============================] - 1s 103us/sample - loss: 132.2372 - acc: 0.6993\n",
      "Epoch 12/100\n",
      "6172/6172 [==============================] - 1s 100us/sample - loss: 99.3893 - acc: 0.6902\n",
      "Epoch 13/100\n",
      "6172/6172 [==============================] - 1s 86us/sample - loss: 72.9050 - acc: 0.6941\n",
      "Epoch 14/100\n",
      "6172/6172 [==============================] - 1s 89us/sample - loss: 52.5242 - acc: 0.6881\n",
      "Epoch 15/100\n",
      "6172/6172 [==============================] - 1s 93us/sample - loss: 38.0588 - acc: 0.6792\n",
      "Epoch 16/100\n",
      "6172/6172 [==============================] - 1s 90us/sample - loss: 28.5070 - acc: 0.6695\n",
      "Epoch 17/100\n",
      "6172/6172 [==============================] - 1s 85us/sample - loss: 22.5703 - acc: 0.6711\n",
      "Epoch 18/100\n",
      "6172/6172 [==============================] - 1s 90us/sample - loss: 18.6577 - acc: 0.6824\n",
      "Epoch 19/100\n",
      "6172/6172 [==============================] - 1s 89us/sample - loss: 17.0819 - acc: 0.6860\n",
      "Epoch 20/100\n",
      "6172/6172 [==============================] - 1s 100us/sample - loss: 16.2146 - acc: 0.6774\n",
      "Epoch 21/100\n",
      "6172/6172 [==============================] - 1s 94us/sample - loss: 16.1650 - acc: 0.6751\n",
      "Epoch 22/100\n",
      "6172/6172 [==============================] - 1s 131us/sample - loss: 15.7054 - acc: 0.6753\n",
      "Epoch 23/100\n",
      "6172/6172 [==============================] - 1s 99us/sample - loss: 15.9651 - acc: 0.6735\n",
      "Epoch 24/100\n",
      "6172/6172 [==============================] - 1s 122us/sample - loss: 16.1164 - acc: 0.6661\n",
      "Epoch 25/100\n",
      "6172/6172 [==============================] - 1s 152us/sample - loss: 15.8108 - acc: 0.6782\n",
      "Epoch 26/100\n",
      "6172/6172 [==============================] - 1s 145us/sample - loss: 15.5787 - acc: 0.6742\n",
      "Epoch 27/100\n",
      "6172/6172 [==============================] - 1s 134us/sample - loss: 15.8885 - acc: 0.6704\n",
      "Epoch 28/100\n",
      "6172/6172 [==============================] - 1s 130us/sample - loss: 15.7527 - acc: 0.6748\n",
      "Epoch 29/100\n",
      "6172/6172 [==============================] - 1s 125us/sample - loss: 16.0556 - acc: 0.6683\n",
      "Epoch 30/100\n",
      "6172/6172 [==============================] - 1s 123us/sample - loss: 15.8255 - acc: 0.6680\n",
      "Epoch 31/100\n",
      "6172/6172 [==============================] - 1s 143us/sample - loss: 15.4725 - acc: 0.6764\n",
      "Epoch 32/100\n",
      "6172/6172 [==============================] - 1s 140us/sample - loss: 15.7122 - acc: 0.6768\n",
      "Epoch 33/100\n",
      "6172/6172 [==============================] - 1s 138us/sample - loss: 15.9965 - acc: 0.6635\n",
      "Epoch 34/100\n",
      "6172/6172 [==============================] - 1s 125us/sample - loss: 15.8180 - acc: 0.6696\n",
      "Epoch 35/100\n",
      "6172/6172 [==============================] - 1s 120us/sample - loss: 15.7237 - acc: 0.6737\n",
      "Epoch 36/100\n",
      "6172/6172 [==============================] - 1s 104us/sample - loss: 15.5640 - acc: 0.6751\n",
      "Epoch 37/100\n",
      "6172/6172 [==============================] - 1s 123us/sample - loss: 15.7762 - acc: 0.6709\n",
      "Epoch 38/100\n",
      "6172/6172 [==============================] - 1s 118us/sample - loss: 15.6192 - acc: 0.6761\n",
      "Epoch 39/100\n",
      "6172/6172 [==============================] - 1s 141us/sample - loss: 15.7237 - acc: 0.6721\n",
      "Epoch 40/100\n",
      "6172/6172 [==============================] - 1s 116us/sample - loss: 15.7238 - acc: 0.6617\n",
      "Epoch 41/100\n",
      "6172/6172 [==============================] - 1s 118us/sample - loss: 15.7281 - acc: 0.6766\n",
      "Epoch 42/100\n",
      "6172/6172 [==============================] - 1s 122us/sample - loss: 15.9715 - acc: 0.6742\n",
      "Epoch 43/100\n",
      "6172/6172 [==============================] - 1s 101us/sample - loss: 15.9093 - acc: 0.6700\n",
      "Epoch 44/100\n",
      "6172/6172 [==============================] - 1s 116us/sample - loss: 15.6986 - acc: 0.6750\n",
      "Epoch 45/100\n",
      "6172/6172 [==============================] - 1s 124us/sample - loss: 15.7997 - acc: 0.6690\n",
      "Epoch 46/100\n",
      "6172/6172 [==============================] - 1s 168us/sample - loss: 15.7053 - acc: 0.6709\n",
      "Epoch 47/100\n",
      "6172/6172 [==============================] - 1s 161us/sample - loss: 16.1398 - acc: 0.6672\n",
      "Epoch 48/100\n",
      "6172/6172 [==============================] - 1s 152us/sample - loss: 15.7849 - acc: 0.6768\n",
      "Epoch 49/100\n",
      "6172/6172 [==============================] - 1s 139us/sample - loss: 15.5787 - acc: 0.6821\n",
      "Epoch 50/100\n",
      "6172/6172 [==============================] - 1s 161us/sample - loss: 15.6501 - acc: 0.6730\n",
      "Epoch 51/100\n",
      "6172/6172 [==============================] - 1s 169us/sample - loss: 15.9173 - acc: 0.6732\n",
      "Epoch 52/100\n",
      "6172/6172 [==============================] - 1s 145us/sample - loss: 15.6426 - acc: 0.6794\n",
      "Epoch 53/100\n",
      "6172/6172 [==============================] - 1s 144us/sample - loss: 15.5882 - acc: 0.6847\n",
      "Epoch 54/100\n",
      "6172/6172 [==============================] - 1s 132us/sample - loss: 15.6515 - acc: 0.6761\n",
      "Epoch 55/100\n",
      "6172/6172 [==============================] - 1s 129us/sample - loss: 15.4782 - acc: 0.6829\n",
      "Epoch 56/100\n",
      "6172/6172 [==============================] - 1s 127us/sample - loss: 15.3557 - acc: 0.6865\n",
      "Epoch 57/100\n",
      "6172/6172 [==============================] - 1s 137us/sample - loss: 15.6872 - acc: 0.6701\n",
      "Epoch 58/100\n",
      "6172/6172 [==============================] - 1s 166us/sample - loss: 15.4315 - acc: 0.6892\n",
      "Epoch 59/100\n",
      "6172/6172 [==============================] - 1s 159us/sample - loss: 15.7896 - acc: 0.6751\n",
      "Epoch 60/100\n",
      "6172/6172 [==============================] - 1s 179us/sample - loss: 15.4721 - acc: 0.6857\n",
      "Epoch 61/100\n",
      "6172/6172 [==============================] - 1s 166us/sample - loss: 15.5503 - acc: 0.6824\n",
      "Epoch 62/100\n",
      "6172/6172 [==============================] - 1s 149us/sample - loss: 15.5290 - acc: 0.6753\n",
      "Epoch 63/100\n",
      "6172/6172 [==============================] - 1s 141us/sample - loss: 15.5535 - acc: 0.6811\n",
      "Epoch 64/100\n",
      "6172/6172 [==============================] - 1s 106us/sample - loss: 15.5904 - acc: 0.6790\n",
      "Epoch 65/100\n",
      "6172/6172 [==============================] - 1s 110us/sample - loss: 15.5077 - acc: 0.6794\n",
      "Epoch 66/100\n",
      "6172/6172 [==============================] - 1s 92us/sample - loss: 15.6918 - acc: 0.6787\n",
      "Epoch 67/100\n",
      "6172/6172 [==============================] - 1s 109us/sample - loss: 15.3955 - acc: 0.6899\n",
      "Epoch 68/100\n",
      "6172/6172 [==============================] - 1s 86us/sample - loss: 15.1798 - acc: 0.6956\n",
      "Epoch 69/100\n",
      "6172/6172 [==============================] - 1s 112us/sample - loss: 15.2517 - acc: 0.6925\n",
      "Epoch 70/100\n",
      "6172/6172 [==============================] - 1s 113us/sample - loss: 15.0944 - acc: 0.6926\n",
      "Epoch 71/100\n",
      "6172/6172 [==============================] - 1s 125us/sample - loss: 15.2822 - acc: 0.6912\n",
      "Epoch 72/100\n",
      "6172/6172 [==============================] - 1s 116us/sample - loss: 15.3673 - acc: 0.6905\n",
      "Epoch 73/100\n",
      "6172/6172 [==============================] - 1s 95us/sample - loss: 15.0330 - acc: 0.6977\n",
      "Epoch 74/100\n",
      "6172/6172 [==============================] - 1s 105us/sample - loss: 15.1507 - acc: 0.6912\n",
      "Epoch 75/100\n",
      "6172/6172 [==============================] - 1s 118us/sample - loss: 15.2242 - acc: 0.6935\n",
      "Epoch 76/100\n",
      "6172/6172 [==============================] - 1s 116us/sample - loss: 15.2060 - acc: 0.6951\n",
      "Epoch 77/100\n",
      "6172/6172 [==============================] - 1s 119us/sample - loss: 15.1520 - acc: 0.6962\n",
      "Epoch 78/100\n",
      "6172/6172 [==============================] - 1s 113us/sample - loss: 15.1548 - acc: 0.6983\n",
      "Epoch 79/100\n",
      "6172/6172 [==============================] - 1s 90us/sample - loss: 14.9535 - acc: 0.7048\n",
      "Epoch 80/100\n",
      "6172/6172 [==============================] - 1s 96us/sample - loss: 14.9338 - acc: 0.7004\n",
      "Epoch 81/100\n",
      "6172/6172 [==============================] - 1s 107us/sample - loss: 15.1681 - acc: 0.7027\n",
      "Epoch 82/100\n",
      "6172/6172 [==============================] - 1s 107us/sample - loss: 14.8491 - acc: 0.7059\n",
      "Epoch 83/100\n",
      "6172/6172 [==============================] - 1s 100us/sample - loss: 14.9439 - acc: 0.7076\n",
      "Epoch 84/100\n",
      "6172/6172 [==============================] - 1s 110us/sample - loss: 14.8774 - acc: 0.7072\n",
      "Epoch 85/100\n",
      "6172/6172 [==============================] - 1s 116us/sample - loss: 14.7710 - acc: 0.7119\n",
      "Epoch 86/100\n",
      "6172/6172 [==============================] - 1s 116us/sample - loss: 14.6428 - acc: 0.7040\n",
      "Epoch 87/100\n",
      "6172/6172 [==============================] - 1s 114us/sample - loss: 14.7177 - acc: 0.7058\n",
      "Epoch 88/100\n",
      "6172/6172 [==============================] - 1s 102us/sample - loss: 14.5450 - acc: 0.7197\n",
      "Epoch 89/100\n",
      "6172/6172 [==============================] - 1s 103us/sample - loss: 14.7812 - acc: 0.7110\n",
      "Epoch 90/100\n",
      "6172/6172 [==============================] - 1s 107us/sample - loss: 14.5788 - acc: 0.7174\n",
      "Epoch 91/100\n",
      "6172/6172 [==============================] - 1s 98us/sample - loss: 14.6547 - acc: 0.7140\n",
      "Epoch 92/100\n",
      "6172/6172 [==============================] - 1s 99us/sample - loss: 14.6620 - acc: 0.7090\n",
      "Epoch 93/100\n",
      "6172/6172 [==============================] - 1s 106us/sample - loss: 14.7707 - acc: 0.7122\n",
      "Epoch 94/100\n",
      "6172/6172 [==============================] - 1s 100us/sample - loss: 14.5319 - acc: 0.7189\n",
      "Epoch 95/100\n",
      "6172/6172 [==============================] - 1s 98us/sample - loss: 14.6242 - acc: 0.7161\n",
      "Epoch 96/100\n",
      "6172/6172 [==============================] - 1s 101us/sample - loss: 14.5338 - acc: 0.7173\n",
      "Epoch 97/100\n",
      "6172/6172 [==============================] - 1s 96us/sample - loss: 14.8215 - acc: 0.7058\n",
      "Epoch 98/100\n",
      "6172/6172 [==============================] - 1s 108us/sample - loss: 14.6725 - acc: 0.7097\n",
      "Epoch 99/100\n",
      "6172/6172 [==============================] - 1s 98us/sample - loss: 14.4479 - acc: 0.7225\n",
      "Epoch 100/100\n",
      "6172/6172 [==============================] - 1s 99us/sample - loss: 14.5077 - acc: 0.7169\n"
     ]
    },
    {
     "data": {
      "text/plain": [
       "<tensorflow.python.keras.callbacks.History at 0x22fd0340e10>"
      ]
     },
     "execution_count": 10,
     "metadata": {},
     "output_type": "execute_result"
    }
   ],
   "source": [
    "n_epochs = 100\n",
    "batch_size = 25\n",
    "bnn.train(x_train_mat, y_train_mat, n_epochs, batch_size)"
   ]
  },
  {
   "cell_type": "code",
   "execution_count": 11,
   "metadata": {},
   "outputs": [],
   "source": [
    "# Evaluate\n",
    "if train_test_splits:\n",
    "    # Test settings - the number of posterior samples\n",
    "    n_test_samples = 100\n",
    "\n",
    "    print(bnn.score(x_test_mat, y_test_mat, n_test_samples))"
   ]
  },
  {
   "cell_type": "markdown",
   "metadata": {},
   "source": [
    "## RATE\n",
    "\n",
    "Now compute RATE. Start with the means and covariances of the final layer. Then get the network output at the penultimate layer, `H`, and use it to compute the means and covariances of the multivariate effect size analgoues."
   ]
  },
  {
   "cell_type": "code",
   "execution_count": 12,
   "metadata": {
    "scrolled": true
   },
   "outputs": [
    {
     "name": "stdout",
     "output_type": "stream",
     "text": [
      "Computing RATE with 10 variables\n",
      "Variable #: 0 done\n"
     ]
    }
   ],
   "source": [
    "M_W, V_W, b = bnn.var_params() # Means and covariances of the variational parameters (final layer weight matrix elements)\n",
    "X = x_test_mat # Using the whole test set\n",
    "H = bnn.compute_H(X) # (Deterministic) values of penultimate network layer\n",
    "effect_size = 'covariance'  # use covariance analogue\n",
    "M_B, V_B = compute_B(X, H, M_W, V_W, b, C, effect_size_analogue=effect_size) # Means and covariances of the effect size analogues\n",
    "rate = [RATE(mu_c=M_B[c,:], Lambda_c=V_B[c,:,:]) for c in range(C)] # Per-class RATE values. First order centrality."
   ]
  },
  {
   "cell_type": "code",
   "execution_count": 13,
   "metadata": {
    "scrolled": true
   },
   "outputs": [
    {
     "name": "stderr",
     "output_type": "stream",
     "text": [
      "C:\\Users\\Dana Udwin\\Anaconda3\\envs\\neurips\\lib\\site-packages\\ipykernel_launcher.py:69: DeprecationWarning: \n",
      ".ix is deprecated. Please use\n",
      ".loc for label based indexing or\n",
      ".iloc for positional indexing\n",
      "\n",
      "See the documentation here:\n",
      "http://pandas.pydata.org/pandas-docs/stable/indexing.html#ix-indexer-is-deprecated\n"
     ]
    }
   ],
   "source": [
    "# Assemble RATE dataset with covariate names\n",
    "# RATE vectors should agree with one another.\n",
    "# Be mindful that from here on, when organizing RATE values into dataset to save, \n",
    "# if a variable was removed, it is hardcoded in some places that that variable is priors_count.\n",
    "# Modify as desired.\n",
    "\n",
    "rate_data = pd.DataFrame(np.transpose([rate[c] for c in range(C)]), \n",
    "                         # rate_class0 is the label in the binary case because there's only 1 response vector.\n",
    "                         columns=list(['rate_class' + str(c) for c in range(C)]))\n",
    "\n",
    "column_dict = {#'two_year_recid': 'Reoffended (Y/N)', \n",
    "          'crime_factor_M': 'Severity of Charge: M', \n",
    "          'priors_count': 'Num. Priors', \n",
    "          'priors_count_shuffled': 'Num. Priors Shuffled',\n",
    "          'priors_count_normalsmp': 'Num. Priors Standard Normal Sample', \n",
    "          'age_factor_Greater than 45': '> 45 Yrs. Old', \n",
    "          'age_factor_Less than 25': '< 25 Yrs. Old', \n",
    "          'race_factor_African-American': 'Race: African-American', \n",
    "          'race_factor_Asian': 'Race: Asian', \n",
    "          'race_factor_Hispanic': 'Race: Hispanic', \n",
    "          'race_factor_Native American': 'Race: Native-American', \n",
    "          'race_factor_Other': 'Race: Other', \n",
    "          'gender_factor_Female': 'Female'}  \n",
    "rate_data['var_names'] = bnn_predictors\n",
    "rate_data['feature'] = [column_dict[col] for col in rate_data['var_names']]\n",
    "\n",
    "# if using all features, \n",
    "# want to remember this ordering \n",
    "# first order centrality, all variables included\n",
    "# when you run this script, be sure to run that first!\n",
    "# this doesn't matter in binary case, but note that for multiclass, this ordering \n",
    "#    goes by importance for predicting score=Low.\n",
    "if num_ProPublica_features == len(bnn_predictors):\n",
    "    rate_data.sort_values(by=['rate_class0'], inplace=True, ascending=False)\n",
    "\n",
    "    # save sort order\n",
    "    all_features_order = rate_data['feature']\n",
    "    sorterIndex = dict(zip(all_features_order, range(len(all_features_order))))\n",
    "\n",
    "rate_data['first_order_ranking'] = rate_data['feature'].map(sorterIndex)\n",
    "rate_data.sort_values(by = ['first_order_ranking'], inplace=True)\n",
    "centrality_label = 'First'\n",
    "\n",
    "# save this data for when we write to csv\n",
    "if num_ProPublica_features > len(bnn_predictors):\n",
    "    # we are omitting priors_count from the analysis\n",
    "    rate_data_temp = rate_data.copy()\n",
    "    line_to_append = dict.fromkeys(rate_data_temp.columns)\n",
    "    line_to_append['var_names'] = 'priors_count'\n",
    "    line_to_append['feature'] = column_dict['priors_count']\n",
    "    line_to_append['rate_class0'] = 0\n",
    "    line_to_append['rate_class1'] = 0\n",
    "    line_to_append['rate_class2'] = 0\n",
    "    rate_data_temp = rate_data_temp.append(line_to_append, ignore_index=True)\n",
    "    identifying_tag = \"_numPriorsOmitted\"\n",
    "elif num_ProPublica_features == len(bnn_predictors):\n",
    "    # including all predictors\n",
    "    identifying_tag = \"\"\n",
    "\n",
    "# modify rate_data_csv!\n",
    "if not multiclass: \n",
    "    # binary case\n",
    "    \n",
    "    if num_ProPublica_features > len(bnn_predictors): \n",
    "        # if we're omitting num. priors\n",
    "        rate_data_csv = rate_data_csv.merge(rate_data_temp.ix[:, [\"var_names\", \"rate_class0\"]], on=[\"var_names\"])\n",
    "    elif num_ProPublica_features == len(bnn_predictors):\n",
    "        # all variables are included in the analysis\n",
    "        rate_data_csv = rate_data_csv.merge(rate_data.ix[:, [\"var_names\", \"rate_class0\"]], on=[\"var_names\"])\n",
    "        \n",
    "    rate_data_csv.rename(index=str, columns={\"rate_class0\": \"rate_class0_1stOrder\" + identifying_tag}, \n",
    "                        inplace=True)\n",
    "else: \n",
    "    # three responses\n",
    "    if num_ProPublica_features > len(bnn_predictors): \n",
    "        # if we're omitting num. priors\n",
    "        rate_data_csv = rate_data_csv.merge(rate_data_temp.ix[:, [\"var_names\", \"rate_class0\", \"rate_class1\", \"rate_class2\"]], \n",
    "                                            on=[\"var_names\"])\n",
    "    elif num_ProPublica_features == len(bnn_predictors):\n",
    "        # all variables are included in the analysis \n",
    "        rate_data_csv = rate_data_csv.merge(rate_data.ix[:, [\"var_names\", \"rate_class0\", \"rate_class1\", \"rate_class2\"]], \n",
    "                                            on=[\"var_names\"])\n",
    "    \n",
    "    rate_data_csv.rename(index=str, columns={\"rate_class0\": \"rate_class0_1stOrder\" + identifying_tag, \n",
    "                                        \"rate_class1\": \"rate_class1_1stOrder\" + identifying_tag, \n",
    "                                        \"rate_class2\": \"rate_class2_1stOrder\" + identifying_tag}, inplace=True)"
   ]
  },
  {
   "cell_type": "code",
   "execution_count": 14,
   "metadata": {},
   "outputs": [
    {
     "data": {
      "image/png": "[encoded data removed]",
      "text/plain": [
       "<Figure size 432x288 with 1 Axes>"
      ]
     },
     "metadata": {
      "needs_background": "light"
     },
     "output_type": "display_data"
    }
   ],
   "source": [
    "# Plot RATE values\n",
    "\n",
    "if not multiclass: \n",
    "    # binary case\n",
    "    fig = sns.barplot(x=\"feature\", y=\"rate_class0\", color = \"gray\", data=rate_data)\n",
    "    fig.set_xticklabels(fig.get_xticklabels(), rotation = 45, ha=\"right\")\n",
    "    for item in fig.get_xticklabels():\n",
    "        item.set_rotation_mode('anchor')\n",
    "    title_text = 'Classifying High Recidivism Risk Scores\\n' + centrality_label + ' Order Centrality'\n",
    "    fig.set(xlabel='Feature', ylabel='RATE', title=title_text)\n",
    "    fig.axhline(y = 1.0 / len(x_train.columns), ls='--', color = \"red\")  # add line at 1/p (all variables equally important)\n",
    "else: \n",
    "    # three responses\n",
    "    print('Classifying High Recidivism Risk Scores\\n' + centrality_label + ' Order Centrality')\n",
    "            \n",
    "    fig, axs = plt.subplots(1, 3)\n",
    "    for response in np.arange(C):\n",
    "        fig = sns.barplot(x=\"feature\", y=\"rate_class\" + str(response), color = \"gray\", data=rate_data, ax=axs[response])\n",
    "        fig.set_xticklabels(fig.get_xticklabels(), rotation = 45, ha=\"right\")\n",
    "        for item in fig.get_xticklabels():\n",
    "            item.set_rotation_mode('anchor')\n",
    "        fig.set(xlabel='Feature', ylabel='RATE', title=response_columns[response])\n",
    "        fig.axhline(y = 1.0 / len(x_train.columns), ls='--', color = \"red\")  # add line at 1/p (all variables equally important)"
   ]
  },
  {
   "cell_type": "code",
   "execution_count": 15,
   "metadata": {},
   "outputs": [
    {
     "name": "stdout",
     "output_type": "stream",
     "text": [
      "Computing RATE with 9 variables\n",
      "Variable #: 0 done\n"
     ]
    },
    {
     "name": "stderr",
     "output_type": "stream",
     "text": [
      "C:\\Users\\Dana Udwin\\Anaconda3\\envs\\neurips\\lib\\site-packages\\ipykernel_launcher.py:67: DeprecationWarning: \n",
      ".ix is deprecated. Please use\n",
      ".loc for label based indexing or\n",
      ".iloc for positional indexing\n",
      "\n",
      "See the documentation here:\n",
      "http://pandas.pydata.org/pandas-docs/stable/indexing.html#ix-indexer-is-deprecated\n"
     ]
    }
   ],
   "source": [
    "# Second order centrality (condition on num. priors effect size = 0)\n",
    "\n",
    "if effect_size == 'linear': \n",
    "    var_to_nullify = np.array(rate_data.ix[rate_data['first_order_ranking'] == 0, 'var_names'])[0]\n",
    "    nullified_var_label = \"_pseudoInv\"\n",
    "elif num_ProPublica_features == len(bnn_predictors): \n",
    "    # all variables are included in the analysis\n",
    "    var_to_nullify = 'priors_count'\n",
    "    nullified_var_label = ''\n",
    "elif num_ProPublica_features > len(bnn_predictors): \n",
    "    # priors count is omitted from the analysis\n",
    "    var_to_nullify = 'race_factor_African-American'\n",
    "    nullified_var_label = '_numPriorsOmitted'\n",
    "\n",
    "priors_count_idx = list(bnn_predictors).index(var_to_nullify)\n",
    "rate = [RATE(mu_c=M_B[c,:], Lambda_c=V_B[c,:,:], nullify=[priors_count_idx]) for c in range(C)] # Per-class RATE values. 2nd order\n",
    "\n",
    "rate_data = pd.DataFrame(np.transpose([rate[c] for c in range(C)]), \n",
    "                         columns=list(['rate_class' + str(c) for c in range(C)]))\n",
    "\n",
    "var_names = list(bnn_predictors)\n",
    "var_names.remove(var_to_nullify)\n",
    "rate_data['var_names'] = var_names\n",
    "if not multiclass: \n",
    "    # binary case\n",
    "    rate_data.append({'rate_class0': 0, 'var_names': var_to_nullify}, ignore_index=True)\n",
    "else: \n",
    "    # three responses\n",
    "    rate_data.append({'rate_class0': 0, 'rate_class1': 0, 'rate_class2': 0, 'var_names': var_to_nullify}, ignore_index=True)\n",
    "rate_data['feature'] = [column_dict[col] for col in rate_data['var_names']]\n",
    "\n",
    "# include nullified variable on plot, for visual continuity, though it has no RATE value\n",
    "missing_features = set(bnn_predictors) - set(var_names)\n",
    "centrality_label = {2:'Second', 3:'Third', 4:'Fourth', 5:'Fifth', 6:'Sixth', 7:'Seventh', 8:'Eighth'}[len(missing_features)+1]\n",
    "for var in missing_features:\n",
    "    if not multiclass: \n",
    "        # binary case\n",
    "        rate_data = rate_data.append({'var_names': var, \n",
    "                                     'rate_class0': 0}, ignore_index=True)\n",
    "    else: \n",
    "        # three responses\n",
    "        rate_data = rate_data.append({'var_names': var, \n",
    "                                     'rate_class0': 0, \n",
    "                                     'rate_class1': 0, \n",
    "                                     'rate_class2': 0}, ignore_index=True)\n",
    "        \n",
    "# order by first order centrality   \n",
    "# you have to have previously run first order centrality!\n",
    "rate_data['first_order_ranking'] = rate_data['feature'].map(sorterIndex)\n",
    "rate_data.sort_values(by = ['first_order_ranking'], inplace=True)\n",
    "\n",
    "# save this data for when we write to csv\n",
    "rate_data_temp = rate_data.copy()\n",
    "if var_to_nullify == 'race_factor_African-American':\n",
    "    # if priors count is omitted fully from the analysis\n",
    "    line_to_append = dict.fromkeys(rate_data_temp.columns)\n",
    "    line_to_append['var_names'] = 'priors_count'\n",
    "    line_to_append['feature'] = column_dict['priors_count']\n",
    "    line_to_append['rate_class0'] = 0\n",
    "    if multiclass: \n",
    "        line_to_append['rate_class1'] = 0\n",
    "        line_to_append['rate_class2'] = 0\n",
    "    rate_data_temp = rate_data_temp.append(line_to_append, ignore_index=True)\n",
    "\n",
    "if not multiclass: \n",
    "    # binary case\n",
    "    rate_data_csv = rate_data_csv.merge(rate_data_temp.ix[:, ['var_names', 'rate_class0']], on = ['var_names'])\n",
    "    rate_data_csv.rename(index=str, columns={\"rate_class0\": \"rate_class0_2ndOrder\" + nullified_var_label}, \n",
    "                        inplace=True)\n",
    "else: \n",
    "    # three responses\n",
    "    rate_data_csv = rate_data_csv.merge(rate_data_temp.ix[:, ['var_names', 'rate_class0', 'rate_class1', 'rate_class2']], \n",
    "                                        on = ['var_names'])\n",
    "    rate_data_csv.rename(index=str, columns={\"rate_class0\": \"rate_class0_2ndOrder\" + nullified_var_label, \n",
    "                                            \"rate_class1\": \"rate_class1_2ndOrder\" + nullified_var_label, \n",
    "                                            \"rate_class2\": \"rate_class2_2ndOrder\" + nullified_var_label}, \n",
    "                        inplace=True)"
   ]
  },
  {
   "cell_type": "code",
   "execution_count": 16,
   "metadata": {},
   "outputs": [
    {
     "data": {
      "image/png": "[encoded data removed]",
      "text/plain": [
       "<Figure size 432x288 with 1 Axes>"
      ]
     },
     "metadata": {
      "needs_background": "light"
     },
     "output_type": "display_data"
    }
   ],
   "source": [
    "# Plot 2nd Order RATE values\n",
    "\n",
    "if not multiclass: \n",
    "    # binary case\n",
    "    fig = sns.barplot(x=\"feature\", y=\"rate_class0\", color = \"gray\", data=rate_data)\n",
    "    fig.set_xticklabels(fig.get_xticklabels(), rotation = 45, ha=\"right\")\n",
    "    for item in fig.get_xticklabels():\n",
    "    #     item.set_rotation(45)\n",
    "        item.set_rotation_mode('anchor')\n",
    "    fig.set(xlabel='Feature', ylabel='RATE', title='Classifying High Recidivism Risk Scores\\n' + \n",
    "           centrality_label + ' Order Centrality')\n",
    "    fig.axhline(y = 1.0 / (len(bnn_predictors) - 1), ls='--', color = \"red\")  # add line at 1/p (all variables equally important)\n",
    "else: \n",
    "    # three responses\n",
    "    print('Classifying High Recidivism Risk Scores\\n' + centrality_label + ' Order Centrality')\n",
    "    fig, axs = plt.subplots(1, 3)\n",
    "    for response in np.arange(C):\n",
    "        fig = sns.barplot(x=\"feature\", y=\"rate_class\" + str(response), color = \"gray\", data=rate_data, ax=axs[response])\n",
    "        fig.set_xticklabels(fig.get_xticklabels(), rotation = 45, ha=\"right\")\n",
    "        for item in fig.get_xticklabels():\n",
    "            item.set_rotation_mode('anchor')\n",
    "        fig.set(xlabel='Feature', ylabel='RATE', title=response_columns[response])\n",
    "        fig.axhline(y = 1.0 / (len(bnn_predictors) - 1), ls='--', color = \"red\")  # add line at 1/p (all variables equally important)"
   ]
  },
  {
   "cell_type": "code",
   "execution_count": 17,
   "metadata": {},
   "outputs": [],
   "source": [
    "# grab feature names for rate data to save\n",
    "\n",
    "column_dict = {#'two_year_recid': 'Reoffended (Y/N)', \n",
    "                  'crime_factor_M': 'Severity of Charge: M', \n",
    "                  'priors_count': 'Num. Priors', \n",
    "                  'age_factor_Greater than 45': '> 45 Yrs. Old', \n",
    "                  'age_factor_Less than 25': '< 25 Yrs. Old', \n",
    "                  'race_factor_African-American': 'Race: African-American', \n",
    "                  'race_factor_Asian': 'Race: Asian', \n",
    "                  'race_factor_Hispanic': 'Race: Hispanic', \n",
    "                  'race_factor_Native American': 'Race: Native-American', \n",
    "                  'race_factor_Other': 'Race: Other', \n",
    "                  'gender_factor_Female': 'Female'}\n",
    "\n",
    "rate_data_csv['feature'] = [column_dict[col] for col in rate_data_csv['var_names']]"
   ]
  },
  {
   "cell_type": "code",
   "execution_count": 18,
   "metadata": {},
   "outputs": [],
   "source": [
    "# Export RATE values\n",
    "\n",
    "# if not multiclass: \n",
    "#     # binary case\n",
    "#     rate_data_csv.to_csv(\"COMPAS_BNN_RATE.csv\", index=False)\n",
    "# else:\n",
    "#     # three responses\n",
    "#     rate_data_csv.to_csv(\"COMPAS_BNN_RATE_multinomialResponse.csv\", index=False)"
   ]
  }
 ],
 "metadata": {
  "kernelspec": {
   "display_name": "python36-neurips-conda-env",
   "language": "python",
   "name": "python36-neurips-conda-env"
  },
  "language_info": {
   "codemirror_mode": {
    "name": "ipython",
    "version": 3
   },
   "file_extension": ".py",
   "mimetype": "text/x-python",
   "name": "python",
   "nbconvert_exporter": "python",
   "pygments_lexer": "ipython3",
   "version": "3.6.8"
  }
 },
 "nbformat": 4,
 "nbformat_minor": 2
}

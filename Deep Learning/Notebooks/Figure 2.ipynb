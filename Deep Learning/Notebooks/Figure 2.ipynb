{
 "cells": [
  {
   "cell_type": "code",
   "execution_count": 1,
   "metadata": {},
   "outputs": [
    {
     "name": "stderr",
     "output_type": "stream",
     "text": [
      "/home/jonathan/miniconda2/lib/python2.7/site-packages/statsmodels/nonparametric/kde.py:22: RuntimeWarning: numpy.dtype size changed, may indicate binary incompatibility. Expected 96, got 88\n",
      "  from .linbin import fast_linbin\n",
      "/home/jonathan/miniconda2/lib/python2.7/site-packages/statsmodels/nonparametric/smoothers_lowess.py:11: RuntimeWarning: numpy.dtype size changed, may indicate binary incompatibility. Expected 96, got 88\n",
      "  from ._smoothers_lowess import lowess as _lowess\n"
     ]
    }
   ],
   "source": [
    "import numpy as np\n",
    "import pandas as pd\n",
    "import tensorflow as tf\n",
    "import tensorflow_probability as tfp\n",
    "import matplotlib.pyplot as plt\n",
    "%matplotlib inline\n",
    "from mpl_toolkits.axes_grid1 import ImageGrid\n",
    "from matplotlib.patches import Patch\n",
    "import seaborn as sns\n",
    "\n",
    "# To import scripts from different directory\n",
    "import os,sys,inspect\n",
    "current_dir = os.path.dirname(os.path.abspath(inspect.getfile(inspect.currentframe())))\n",
    "parent_dir = os.path.dirname(current_dir)\n",
    "sys.path.insert(0, \"/\".join([parent_dir, \"src\"])) \n",
    "\n",
    "from utils import *\n",
    "from BayesNN import BNN\n",
    "from rate_bnn import *"
   ]
  },
  {
   "cell_type": "markdown",
   "metadata": {},
   "source": [
    "# Build and train network, compute RATE\n",
    "\n",
    "Do this once each for binary tasks distringuising MNIST 0 from 1 and 1 from 8."
   ]
  },
  {
   "cell_type": "code",
   "execution_count": 2,
   "metadata": {},
   "outputs": [
    {
     "name": "stdout",
     "output_type": "stream",
     "text": [
      "x_train has shape (12665, 324)\n",
      "y_train has shape (12665, 1)\n",
      "x_test has shape (2115, 324)\n",
      "y_test has shape (2115, 1)\n",
      "Test accuracy = 0.999418439716 \\pm 0.000209909909035\n",
      "0 100 200 300 x_train has shape (12593, 324)\n",
      "y_train has shape (12593, 1)\n",
      "x_test has shape (2109, 324)\n",
      "y_test has shape (2109, 1)\n",
      "Test accuracy = 0.999473684211 \\pm 0.000275624307811\n",
      "0 100 200 300\n"
     ]
    }
   ],
   "source": [
    "tf.reset_default_graph()\n",
    "\n",
    "# Settings\n",
    "class_set_list = [[0,1], [8,1]]\n",
    "\n",
    "crop_size = 5\n",
    "\n",
    "# Training settings\n",
    "n_epochs = 10\n",
    "batch_size = 256\n",
    "\n",
    "# Test settings - the number of posterior samples\n",
    "n_test_samples = 100\n",
    "\n",
    "# Network architecture\n",
    "def network_layers(p, C, image_size):\n",
    "    layers = []\n",
    "    layers.append(tf.keras.layers.Reshape([image_size, image_size, 1], input_shape=(p,)))\n",
    "    layers.append(tf.keras.layers.Conv2D(32, (5, 5), activation='relu'))\n",
    "    layers.append(tf.layers.Flatten())\n",
    "    layers.append(tf.keras.layers.Dense(512, activation='relu'))\n",
    "    layers.append(tfp.layers.DenseLocalReparameterization(C))\n",
    "    return layers\n",
    "\n",
    "rate_values, M_B_signs = [], []\n",
    "\n",
    "for classes in class_set_list:\n",
    "    x_train, y_train, x_test, y_test = load_mnist(False, True, crop_size, classes) # Load data\n",
    "    \n",
    "    p = x_train.shape[1]\n",
    "    C = y_train.shape[1]\n",
    "    image_size = int(p**0.5)\n",
    "    \n",
    "    bnn = BNN(network_layers(p, C, image_size), p, C, False) # Create and train network\n",
    "    losses = bnn.train(x_train, y_train, n_epochs, batch_size)\n",
    "    \n",
    "    test_logits = bnn.sample_logits(x_test, n_test_samples) # Sample logits\n",
    "    test_acc = sampled_accuracies(test_logits, y_test)\n",
    "    print \"Test accuracy = {} \\pm {}\".format(test_acc.mean(), test_acc.std())\n",
    "    \n",
    "    # Compute RATE\n",
    "    M_W, V_W, b = bnn.var_params() # Means and covariances of the variational parameters (final layer weight matrix elements)\n",
    "    X = x_test\n",
    "    H = bnn.compute_H(X) # (Deterministic) activations of penultimate network layer\n",
    "    M_B, V_B = compute_B(X, H, M_W, V_W, b, C, effect_size_analogue=\"covariance\") # Means and covariances of the effect size analogues\n",
    "    rate_values.append(RATE(mu_c=M_B[0,:], Lambda_c=V_B[0,:,:]))\n",
    "    \n",
    "    M_B_signs.append(np.sign(M_B[0,:]))\n"
   ]
  },
  {
   "cell_type": "markdown",
   "metadata": {},
   "source": [
    "# Plot RATE"
   ]
  },
  {
   "cell_type": "code",
   "execution_count": 15,
   "metadata": {},
   "outputs": [
    {
     "ename": "AttributeError",
     "evalue": "'int' object has no attribute 'shape'",
     "output_type": "error",
     "traceback": [
      "\u001b[0;31m---------------------------------------------------------------------------\u001b[0m",
      "\u001b[0;31mAttributeError\u001b[0m                            Traceback (most recent call last)",
      "\u001b[0;32m<ipython-input-15-7c6a312d7dd8>\u001b[0m in \u001b[0;36m<module>\u001b[0;34m()\u001b[0m\n\u001b[0;32m----> 1\u001b[0;31m \u001b[0mRATE_BNN\u001b[0m\u001b[0;34m(\u001b[0m\u001b[0mx_test\u001b[0m\u001b[0;34m,\u001b[0m \u001b[0mH\u001b[0m\u001b[0;34m,\u001b[0m \u001b[0mM_W\u001b[0m\u001b[0;34m,\u001b[0m \u001b[0mV_W\u001b[0m\u001b[0;34m,\u001b[0m \u001b[0mb\u001b[0m\u001b[0;34m,\u001b[0m \u001b[0mC\u001b[0m\u001b[0;34m,\u001b[0m \u001b[0meffect_size_analogue\u001b[0m\u001b[0;34m=\u001b[0m\u001b[0;34m\"covariance\"\u001b[0m\u001b[0;34m)\u001b[0m\u001b[0;34m\u001b[0m\u001b[0m\n\u001b[0m",
      "\u001b[0;32m/media/jonathan/hardDisc/Dropbox/PhD/RATE/RATE_flaxter/src/utils.py\u001b[0m in \u001b[0;36mRATE_BNN\u001b[0;34m(X, H, M_W, V_W, b, C, effect_size_analogue)\u001b[0m\n\u001b[1;32m    383\u001b[0m \u001b[0;34m\u001b[0m\u001b[0m\n\u001b[1;32m    384\u001b[0m         \u001b[0mReturns\u001b[0m\u001b[0;34m:\u001b[0m\u001b[0;34m\u001b[0m\u001b[0m\n\u001b[0;32m--> 385\u001b[0;31m                 \u001b[0mList\u001b[0m \u001b[0mof\u001b[0m \u001b[0marray\u001b[0m \u001b[0mof\u001b[0m \u001b[0mRATE\u001b[0m \u001b[0mvalues\u001b[0m \u001b[0;32mwith\u001b[0m \u001b[0mshaplength\u001b[0m \u001b[0mC\u001b[0m\u001b[0;34m.\u001b[0m \u001b[0mEach\u001b[0m \u001b[0marray\u001b[0m \u001b[0;32min\u001b[0m \u001b[0mthe\u001b[0m \u001b[0mlist\u001b[0m \u001b[0mhas\u001b[0m \u001b[0mshape\u001b[0m \u001b[0;34m(\u001b[0m\u001b[0mn_variables\u001b[0m\u001b[0;34m,\u001b[0m\u001b[0;34m)\u001b[0m\u001b[0;34m\u001b[0m\u001b[0m\n\u001b[0m\u001b[1;32m    386\u001b[0m \t\"\"\"\n\u001b[1;32m    387\u001b[0m \u001b[0;34m\u001b[0m\u001b[0m\n",
      "\u001b[0;32m/media/jonathan/hardDisc/Dropbox/PhD/RATE/RATE_flaxter/src/utils.py\u001b[0m in \u001b[0;36mcompute_B\u001b[0;34m(X, H, M_W, V_W, b, C, effect_size_analogue)\u001b[0m\n\u001b[1;32m    277\u001b[0m \u001b[0;34m\u001b[0m\u001b[0m\n\u001b[1;32m    278\u001b[0m \t\"\"\"\n\u001b[0;32m--> 279\u001b[0;31m         \u001b[0;32massert\u001b[0m \u001b[0mX\u001b[0m\u001b[0;34m.\u001b[0m\u001b[0mshape\u001b[0m\u001b[0;34m[\u001b[0m\u001b[0;36m0\u001b[0m\u001b[0;34m]\u001b[0m\u001b[0;34m==\u001b[0m\u001b[0mH\u001b[0m\u001b[0;34m.\u001b[0m\u001b[0mshape\u001b[0m\u001b[0;34m[\u001b[0m\u001b[0;36m0\u001b[0m\u001b[0;34m]\u001b[0m\u001b[0;34m,\u001b[0m \u001b[0;34m\"Number of examples (first dimension) of X and H must match\"\u001b[0m\u001b[0;34m\u001b[0m\u001b[0m\n\u001b[0m\u001b[1;32m    280\u001b[0m         \u001b[0;32massert\u001b[0m \u001b[0mb\u001b[0m\u001b[0;34m.\u001b[0m\u001b[0mshape\u001b[0m\u001b[0;34m[\u001b[0m\u001b[0;36m0\u001b[0m\u001b[0;34m]\u001b[0m\u001b[0;34m==\u001b[0m\u001b[0mC\u001b[0m\u001b[0;34m,\u001b[0m \u001b[0;34m\"Number of bias units must match number of classes\"\u001b[0m\u001b[0;34m\u001b[0m\u001b[0m\n\u001b[1;32m    281\u001b[0m         \u001b[0;32massert\u001b[0m \u001b[0mM_W\u001b[0m\u001b[0;34m.\u001b[0m\u001b[0mshape\u001b[0m\u001b[0;34m[\u001b[0m\u001b[0;36m1\u001b[0m\u001b[0;34m]\u001b[0m\u001b[0;34m==\u001b[0m\u001b[0mC\u001b[0m\u001b[0;34m,\u001b[0m \u001b[0;34m\"Second dimension of weight means must match number of classes\"\u001b[0m\u001b[0;34m\u001b[0m\u001b[0m\n",
      "\u001b[0;31mAttributeError\u001b[0m: 'int' object has no attribute 'shape'"
     ]
    }
   ],
   "source": [
    "RATE_BNN(x_test, H, M_W, V_W, b, C, effect_size_analogue=\"covariance\")"
   ]
  },
  {
   "cell_type": "code",
   "execution_count": 14,
   "metadata": {},
   "outputs": [
    {
     "data": {
      "text/plain": [
       "array([[0., 0., 0., ..., 0., 0., 0.],\n",
       "       [0., 0., 0., ..., 0., 0., 0.],\n",
       "       [0., 0., 0., ..., 0., 0., 0.],\n",
       "       ...,\n",
       "       [0., 0., 0., ..., 0., 0., 0.],\n",
       "       [0., 0., 0., ..., 0., 0., 0.],\n",
       "       [0., 0., 0., ..., 0., 0., 0.]])"
      ]
     },
     "execution_count": 14,
     "metadata": {},
     "output_type": "execute_result"
    }
   ],
   "source": [
    "X"
   ]
  },
  {
   "cell_type": "code",
   "execution_count": 104,
   "metadata": {},
   "outputs": [
    {
     "data": {
      "image/png": "[encoded data removed]",
      "text/plain": [
       "<matplotlib.figure.Figure at 0x7f9fb84c82d0>"
      ]
     },
     "metadata": {},
     "output_type": "display_data"
    }
   ],
   "source": [
    "#\n",
    "# Plot RATE values for each binary task\n",
    "#\n",
    "\n",
    "rate_values_signed = [np.sign(M_B_signs[i]) * rate_values[i] for i in range(2)]\n",
    "\n",
    "# Plot aesthetics\n",
    "plotsize = 6\n",
    "tickfontsize = 25\n",
    "plottitlesize = 40\n",
    "axislabelfontsize = 30\n",
    "markersize = 100\n",
    "legendfontsize = 20\n",
    "\n",
    "titles = [\"(A)\", \"(B)\"]\n",
    "\n",
    "# Standardise scales across plots\n",
    "vmax, vmin = np.amax(rate_values_signed), np.amin(rate_values_signed)\n",
    "abs_limit = np.amax([vmax, np.abs(vmin)])\n",
    "\n",
    "# Set up figure and image grid\n",
    "fig = plt.figure(figsize=(2*plotsize, plotsize))\n",
    "\n",
    "grid = ImageGrid(fig, 111,          # as in plt.subplot(111)\n",
    "                 nrows_ncols=(1,2),\n",
    "                 axes_pad=0.1,\n",
    "                 share_all=True,\n",
    "                 cbar_location=\"right\",\n",
    "                 cbar_mode=\"single\",\n",
    "                 cbar_size=\"7%\",\n",
    "                 cbar_pad=0.15)\n",
    "\n",
    "# Add data to image grid\n",
    "for i, ax in enumerate(grid):\n",
    "    im = ax.imshow(rate_values_signed[i].reshape(image_size, image_size),\n",
    "                   cmap=\"seismic\", vmin=-abs_limit, vmax=abs_limit)\n",
    "    \n",
    "    ax.set_xticks([])\n",
    "    ax.get_yaxis().set_visible(False)\n",
    "#     ax.set_xlabel(\"Distinguishing\\n{} and {}\".format(class_set_list[i][0], class_set_list[i][1]),\n",
    "#                   fontsize=axislabelfontsize)\n",
    "    ax.set_title(titles[i], loc=\"left\", weight=\"bold\", fontsize=axislabelfontsize)\n",
    "    \n",
    "    legend_elements = [Patch(facecolor=c, edgecolor=c, label=l, alpha=1.0) for (c,l) in \n",
    "                   zip([\"red\", \"blue\"], [\"{}\".format(class_set_list[i][1]),\n",
    "                                         \"{}\".format(class_set_list[i][0])])]\n",
    "    \n",
    "    legend = ax.legend(handles=legend_elements, loc='lower center', bbox_to_anchor=(0.5, -0.32),\n",
    "               ncol=2, fancybox=True, title=\"Effect direction\", \n",
    "                   fontsize=tickfontsize)\n",
    "    legend.get_title().set_fontsize(tickfontsize)\n",
    "    \n",
    "\n",
    "\n",
    "# Colorbar\n",
    "cb = ax.cax.colorbar(im)\n",
    "\n",
    "ax.cax.set_ylabel(\"Signed RATE\", rotation=270, fontsize=axislabelfontsize, labelpad=30)\n",
    "ax.cax.yaxis.offsetText.set_fontsize(tickfontsize)\n",
    "ax.cax.tick_params(\"both\", labelsize=tickfontsize)\n",
    "\n",
    "fig.savefig(\"MNIST_visualisation.pdf\", bbox_inches=\"tight\")"
   ]
  }
 ],
 "metadata": {
  "kernelspec": {
   "display_name": "Python 2",
   "language": "python",
   "name": "python2"
  },
  "language_info": {
   "codemirror_mode": {
    "name": "ipython",
    "version": 2
   },
   "file_extension": ".py",
   "mimetype": "text/x-python",
   "name": "python",
   "nbconvert_exporter": "python",
   "pygments_lexer": "ipython2",
   "version": "2.7.15"
  }
 },
 "nbformat": 4,
 "nbformat_minor": 2
}

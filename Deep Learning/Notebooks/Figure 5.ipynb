{
 "cells": [
  {
   "cell_type": "markdown",
   "metadata": {},
   "source": [
    "# COMPAS Results for Bayesian Neural network + RATE - ICML\n",
    "\n",
    "Find recidivism risk score data and previous analysis on [ProPublica](https://www.propublica.org/datastore/dataset/compas-recidivism-risk-score-data-and-analysis)."
   ]
  },
  {
   "cell_type": "code",
   "execution_count": 1,
   "metadata": {},
   "outputs": [
    {
     "name": "stderr",
     "output_type": "stream",
     "text": [
      "/home/jonathan/miniconda2/lib/python2.7/site-packages/statsmodels/nonparametric/kde.py:22: RuntimeWarning: numpy.dtype size changed, may indicate binary incompatibility. Expected 96, got 88\n",
      "  from .linbin import fast_linbin\n",
      "/home/jonathan/miniconda2/lib/python2.7/site-packages/statsmodels/nonparametric/smoothers_lowess.py:11: RuntimeWarning: numpy.dtype size changed, may indicate binary incompatibility. Expected 96, got 88\n",
      "  from ._smoothers_lowess import lowess as _lowess\n"
     ]
    }
   ],
   "source": [
    "import numpy as np\n",
    "import tensorflow as tf\n",
    "import tensorflow_probability as tfp # Needs separate install on top of standard Tensorflow \n",
    "import matplotlib.pyplot as plt\n",
    "%matplotlib inline\n",
    "from mpl_toolkits.axes_grid1 import make_axes_locatable\n",
    "import seaborn as sns\n",
    "from scipy.stats import spearmanr, rankdata\n",
    "import pandas as pd\n",
    "#from ggplot import *\n",
    "import random\n",
    "import copy\n",
    "import warnings\n",
    "from sklearn.model_selection import train_test_split\n",
    "from sklearn import preprocessing\n",
    "from random import *\n",
    "\n",
    "# To import scripts from different directory\n",
    "import os,sys,inspect\n",
    "current_dir = os.path.dirname(os.path.abspath(inspect.getfile(inspect.currentframe())))\n",
    "parent_dir = os.path.dirname(current_dir)\n",
    "sys.path.insert(0, \"/\".join([parent_dir, \"src\"])) \n",
    "\n",
    "from utils import *\n",
    "from BayesNN import BNN\n",
    "from rate_bnn import *"
   ]
  },
  {
   "cell_type": "markdown",
   "metadata": {},
   "source": [
    "It is advised you run this notebook twice: once with `variables_to_remove = []` and next with `variables_to_remove = ['priors_count']` (see below cell). Do not restart the kernel between runs. The result is a dataset `rate_data_csv` that may be written to file (uncomment last cell when ready to do so). The contents are first and second order RATE values when all variables are included, and first and second order RATE values when number of prior offenses is omitted."
   ]
  },
  {
   "cell_type": "code",
   "execution_count": 3,
   "metadata": {
    "collapsed": true
   },
   "outputs": [],
   "source": [
    "# options for analysis\n",
    "\n",
    "# if True, use raw risk class: Low, Medium, High.\n",
    "# if False, analyze as ProPublica did, binning Medium/High into a single group (this is our primary interest)\n",
    "multiclass = False\n",
    "\n",
    "# At first pass, it is not advised you remove variables\n",
    "variables_to_remove = []\n",
    "# variables_to_remove = ['priors_count']"
   ]
  },
  {
   "cell_type": "code",
   "execution_count": 4,
   "metadata": {},
   "outputs": [
    {
     "name": "stderr",
     "output_type": "stream",
     "text": [
      "/home/jonathan/miniconda2/lib/python2.7/site-packages/pandas/core/frame.py:3778: SettingWithCopyWarning: \n",
      "A value is trying to be set on a copy of a slice from a DataFrame\n",
      "\n",
      "See the caveats in the documentation: http://pandas.pydata.org/pandas-docs/stable/indexing.html#indexing-view-versus-copy\n",
      "  return super(DataFrame, self).rename(**kwargs)\n",
      "/home/jonathan/miniconda2/lib/python2.7/site-packages/ipykernel_launcher.py:14: SettingWithCopyWarning: \n",
      "A value is trying to be set on a copy of a slice from a DataFrame.\n",
      "Try using .loc[row_indexer,col_indexer] = value instead\n",
      "\n",
      "See the caveats in the documentation: http://pandas.pydata.org/pandas-docs/stable/indexing.html#indexing-view-versus-copy\n",
      "  \n",
      "/home/jonathan/miniconda2/lib/python2.7/site-packages/ipykernel_launcher.py:19: SettingWithCopyWarning: \n",
      "A value is trying to be set on a copy of a slice from a DataFrame.\n",
      "Try using .loc[row_indexer,col_indexer] = value instead\n",
      "\n",
      "See the caveats in the documentation: http://pandas.pydata.org/pandas-docs/stable/indexing.html#indexing-view-versus-copy\n",
      "/home/jonathan/miniconda2/lib/python2.7/site-packages/ipykernel_launcher.py:22: SettingWithCopyWarning: \n",
      "A value is trying to be set on a copy of a slice from a DataFrame.\n",
      "Try using .loc[row_indexer,col_indexer] = value instead\n",
      "\n",
      "See the caveats in the documentation: http://pandas.pydata.org/pandas-docs/stable/indexing.html#indexing-view-versus-copy\n"
     ]
    }
   ],
   "source": [
    "# Load COMPAS data\n",
    "raw_data = pd.read_csv('https://raw.githubusercontent.com/propublica/compas-analysis/master/compas-scores-two-years.csv')\n",
    "\n",
    "# Remove missingness as ProPublica did\n",
    "complete_data = raw_data[(raw_data['days_b_screening_arrest'] <= 30) & \n",
    "         (raw_data['days_b_screening_arrest'] >= -30) & \n",
    "         (raw_data['is_recid'] != -1) & \n",
    "         (raw_data['c_charge_degree'] != 'O') & \n",
    "         (raw_data['score_text'] != 'N/A')]\n",
    "\n",
    "# Organize factors same as ProPublica\n",
    "complete_data.rename(index=str, columns={\"c_charge_degree\": \"crime_factor\"}, inplace=True)\n",
    "\n",
    "complete_data['race_factor'] = complete_data['race'].astype('category')\n",
    "complete_data['race_factor'].cat.reorder_categories(['Caucasian', 'African-American', \n",
    "                                             'Asian', 'Hispanic', \n",
    "                                             'Native American', 'Other'], inplace=True)\n",
    "\n",
    "complete_data['gender_factor'] = complete_data['sex'].astype('category')\n",
    "complete_data['gender_factor'].cat.reorder_categories(['Male', 'Female'], inplace=True)\n",
    "\n",
    "complete_data['age_factor'] = complete_data['age_cat']"
   ]
  },
  {
   "cell_type": "code",
   "execution_count": 5,
   "metadata": {},
   "outputs": [
    {
     "name": "stderr",
     "output_type": "stream",
     "text": [
      "/home/jonathan/miniconda2/lib/python2.7/site-packages/ipykernel_launcher.py:23: SettingWithCopyWarning: \n",
      "A value is trying to be set on a copy of a slice from a DataFrame.\n",
      "Try using .loc[row_indexer,col_indexer] = value instead\n",
      "\n",
      "See the caveats in the documentation: http://pandas.pydata.org/pandas-docs/stable/indexing.html#indexing-view-versus-copy\n",
      "/home/jonathan/miniconda2/lib/python2.7/site-packages/ipykernel_launcher.py:24: SettingWithCopyWarning: \n",
      "A value is trying to be set on a copy of a slice from a DataFrame.\n",
      "Try using .loc[row_indexer,col_indexer] = value instead\n",
      "\n",
      "See the caveats in the documentation: http://pandas.pydata.org/pandas-docs/stable/indexing.html#indexing-view-versus-copy\n"
     ]
    }
   ],
   "source": [
    "# Choose to bin Medium and High together, as ProPublica did (main ICML text)\n",
    "# or leave Low, Medium, High as three classes\n",
    "\n",
    "if multiclass: \n",
    "    # three responses\n",
    "    complete_data['score_factor'] = complete_data['score_text'].astype('category')\n",
    "    complete_data['score_factor'].cat.reorder_categories(['Low', 'Medium', 'High'], inplace=True)\n",
    "    \n",
    "    # One-hot encode features\n",
    "    onehot_predictors = pd.get_dummies(complete_data, \n",
    "                             columns = ['crime_factor', 'age_factor', \n",
    "                                       'race_factor', 'gender_factor'], \n",
    "                            drop_first = True)\n",
    "    \n",
    "    # need three one-hot columns to persist for response\n",
    "    onehot_response = pd.get_dummies(complete_data, columns = ['score_factor'])\n",
    "    response_columns = ['score_factor_Low', 'score_factor_Medium', 'score_factor_High']\n",
    "    \n",
    "    onehot_data = pd.concat([onehot_predictors.reset_index(drop=True), \n",
    "                         onehot_response.ix[:, response_columns].reset_index(drop=True)], axis=1)\n",
    "else: \n",
    "    # binary response: Low v. Medium/High\n",
    "    complete_data['score_factor'] = np.where(complete_data['score_text'] == 'Low', 'LowScore', 'HighScore')\n",
    "    complete_data['score_factor'] = complete_data['score_factor'].astype('category')\n",
    "    complete_data['score_factor'].cat.reorder_categories(['LowScore', 'HighScore'], inplace=True)\n",
    "    \n",
    "    # One-hot encode features\n",
    "    onehot_data = pd.get_dummies(complete_data, \n",
    "                             columns = ['crime_factor', 'age_factor', \n",
    "                                       'race_factor', 'gender_factor', \n",
    "                                       'score_factor'], \n",
    "                            drop_first = True)\n",
    "    \n",
    "    response_columns = ['score_factor_HighScore']"
   ]
  },
  {
   "cell_type": "code",
   "execution_count": 6,
   "metadata": {},
   "outputs": [
    {
     "name": "stderr",
     "output_type": "stream",
     "text": [
      "/home/jonathan/miniconda2/lib/python2.7/site-packages/ipykernel_launcher.py:21: DeprecationWarning: \n",
      ".ix is deprecated. Please use\n",
      ".loc for label based indexing or\n",
      ".iloc for positional indexing\n",
      "\n",
      "See the documentation here:\n",
      "http://pandas.pydata.org/pandas-docs/stable/indexing.html#ix-indexer-is-deprecated\n",
      "/home/jonathan/miniconda2/lib/python2.7/site-packages/pandas/core/indexing.py:890: DeprecationWarning: \n",
      ".ix is deprecated. Please use\n",
      ".loc for label based indexing or\n",
      ".iloc for positional indexing\n",
      "\n",
      "See the documentation here:\n",
      "http://pandas.pydata.org/pandas-docs/stable/indexing.html#ix-indexer-is-deprecated\n",
      "  retval = getattr(retval, self.name)._getitem_axis(key, axis=i)\n"
     ]
    }
   ],
   "source": [
    "# Use the features ProPublica used, less two year recidivism\n",
    "ProPublica_features = ['crime_factor_M', \n",
    "                        'priors_count', \n",
    "                        'age_factor_Greater than 45', \n",
    "                        'age_factor_Less than 25', \n",
    "                        'race_factor_African-American', \n",
    "                        'race_factor_Asian', \n",
    "                        'race_factor_Hispanic', \n",
    "                        'race_factor_Native American', \n",
    "                        'race_factor_Other', \n",
    "                        'gender_factor_Female']\n",
    "\n",
    "# recall full feature list length (with one-hot) for plots\n",
    "num_ProPublica_features = len(ProPublica_features)\n",
    "\n",
    "# Add response vector\n",
    "model_columns = ProPublica_features  # use ProPublica predictors\n",
    "model_columns.extend(response_columns)  # add response column(s)\n",
    "\n",
    "# define PANDAS modeling data\n",
    "model_data = onehot_data.ix[:, model_columns]"
   ]
  },
  {
   "cell_type": "code",
   "execution_count": 7,
   "metadata": {
    "collapsed": true
   },
   "outputs": [],
   "source": [
    "# REMOVE VARIABLES\n",
    "\n",
    "if len(variables_to_remove) > 0:\n",
    "    model_data.drop(variables_to_remove, axis=1, inplace=True)"
   ]
  },
  {
   "cell_type": "code",
   "execution_count": 8,
   "metadata": {
    "collapsed": true
   },
   "outputs": [],
   "source": [
    "# SCRAMBLE VARIABLES\n",
    "# Optional, not advised.\n",
    "# Set shuffle = True, normalsmp = False to permute the priors_count column\n",
    "# Set shuffle = True, normalsmp = True to replace the priors_count column with N(0, 1) random sample\n",
    "\n",
    "shuffle = False\n",
    "normalsmp = False\n",
    "\n",
    "if shuffle:\n",
    "    np.random.seed(randint(0, 99999))  # set new numpy random seed\n",
    "    priors_count = copy.deepcopy(model_data['priors_count'])\n",
    "    model_data.drop('priors_count', axis=1, inplace=True)\n",
    "\n",
    "    if normalsmp:\n",
    "        # sample from normal random variable\n",
    "        model_data['priors_count_normalsmp'] = np.random.normal(0, 1, model_data.shape[0])\n",
    "    else: \n",
    "        # permute the priors_count column\n",
    "        model_data['priors_count_shuffled'] = np.random.permutation(priors_count)"
   ]
  },
  {
   "cell_type": "code",
   "execution_count": 9,
   "metadata": {
    "collapsed": true
   },
   "outputs": [],
   "source": [
    "# Normalize the priors count variable (shuffled or not)\n",
    "# the only continuous predictor\n",
    "\n",
    "# normalizing this variable makes the covariance projection == correlation projection\n",
    "correlation = False\n",
    "\n",
    "if correlation: \n",
    "    cols = [\"priors_count\", \"priors_count_shuffled\", \"priors_count_normalsmp\"]\n",
    "    priors_col = [model_data.columns.get_loc(c) for c in model_data.columns if c in cols]\n",
    "    if len(priors_col) > 0:\n",
    "        model_data.ix[:, priors_col[0]] = preprocessing.scale(model_data.ix[:, priors_col[0]])"
   ]
  },
  {
   "cell_type": "code",
   "execution_count": 10,
   "metadata": {},
   "outputs": [
    {
     "name": "stderr",
     "output_type": "stream",
     "text": [
      "/home/jonathan/miniconda2/lib/python2.7/site-packages/ipykernel_launcher.py:18: DeprecationWarning: \n",
      ".ix is deprecated. Please use\n",
      ".loc for label based indexing or\n",
      ".iloc for positional indexing\n",
      "\n",
      "See the documentation here:\n",
      "http://pandas.pydata.org/pandas-docs/stable/indexing.html#ix-indexer-is-deprecated\n",
      "/home/jonathan/miniconda2/lib/python2.7/site-packages/pandas/core/indexing.py:890: DeprecationWarning: \n",
      ".ix is deprecated. Please use\n",
      ".loc for label based indexing or\n",
      ".iloc for positional indexing\n",
      "\n",
      "See the documentation here:\n",
      "http://pandas.pydata.org/pandas-docs/stable/indexing.html#ix-indexer-is-deprecated\n",
      "  retval = getattr(retval, self.name)._getitem_axis(key, axis=i)\n"
     ]
    }
   ],
   "source": [
    "# Define training and test splits\n",
    "# This is not necessary, as we are not interested in prediction.\n",
    "\n",
    "train_test_splits = False\n",
    "\n",
    "if train_test_splits: \n",
    "    x_train, x_test = train_test_split(model_data, test_size=0.2)\n",
    "    y_train_mat = x_train.ix[:, response_columns].values\n",
    "    x_train.drop(columns = response_columns, inplace=True)\n",
    "    bnn_predictors = x_train.columns\n",
    "    x_train_mat = x_train.values\n",
    "    \n",
    "    y_test_mat = x_test.ix[:, response_columns].values\n",
    "    x_test.drop(columns = response_columns, inplace=True)\n",
    "    x_test_mat = x_test.values\n",
    "else: \n",
    "    x_train = model_data\n",
    "    y_train_mat = x_train.ix[:, response_columns].values\n",
    "    y_test_mat = y_train_mat\n",
    "    x_train.drop(columns = response_columns, inplace=True)\n",
    "    bnn_predictors = x_train.columns\n",
    "    x_train_mat = x_train.values\n",
    "    x_test_mat = x_train_mat\n",
    "    \n",
    "n_train = x_train_mat.shape[0]\n",
    "n_test = x_test_mat.shape[0]\n",
    "\n",
    "# Input and output dimensionality\n",
    "p = x_train_mat.shape[1]\n",
    "C = y_train_mat.shape[1]\n",
    "\n",
    "# set up space to save rate values\n",
    "if 'rate_data_csv' not in locals():\n",
    "    rate_data_csv = pd.DataFrame({\"var_names\": ProPublica_features})\n",
    "    if shuffle and not normalsmp:\n",
    "        rate_data_csv[\"var_names\"].replace(\"priors_count_shuffled\", \"priors_count\", inplace=True)\n",
    "    if shuffle and normalsmp:\n",
    "        rate_data_csv[\"var_names\"].replace(\"priors_count_normalsmp\", \"priors_count\", inplace=True)"
   ]
  },
  {
   "cell_type": "markdown",
   "metadata": {},
   "source": [
    "Now define the network architecture. The BNN class constructor (defined in BayesNN) takes a list of Tensorflow layers. \n",
    "\n",
    "If the layers cannot be combined to make a model the build_model method (called in the constructor) will throw an error. This is usually because of mismatching shapes.\n",
    "\n",
    "The architecture of this network is\n",
    "\n",
    "    flatten -> dense layers -> dense Bayesian layer (-> softmax if making prediction)"
   ]
  },
  {
   "cell_type": "code",
   "execution_count": 11,
   "metadata": {
    "collapsed": true
   },
   "outputs": [],
   "source": [
    "layers = []\n",
    "\n",
    "layers.append(tf.layers.Flatten(input_shape = (p,)))\n",
    "\n",
    "# num. neurons for reasonable training\n",
    "alpha = 2\n",
    "layer_one_size = np.floor(n_train / (alpha * (p + C)))\n",
    "layer_two_size = np.floor(layer_one_size + C * 2 / 3)\n",
    "\n",
    "# add layers\n",
    "layers.append(tf.keras.layers.Dense(layer_one_size, activation='relu'))\n",
    "layers.append(tf.keras.layers.Dense(layer_two_size, activation='relu'))\n",
    "\n",
    "layers.append(tfp.layers.DenseReparameterization(C))  # PREFER DenseLocalReparameterization, but having troubles."
   ]
  },
  {
   "cell_type": "markdown",
   "metadata": {},
   "source": [
    "Now create the BNN object:"
   ]
  },
  {
   "cell_type": "code",
   "execution_count": 12,
   "metadata": {},
   "outputs": [
    {
     "name": "stdout",
     "output_type": "stream",
     "text": [
      "_________________________________________________________________\n",
      "Layer (type)                 Output Shape              Param #   \n",
      "=================================================================\n",
      "flatten_1 (Flatten)          (None, 10)                0         \n",
      "_________________________________________________________________\n",
      "dense (Dense)                (None, 280)               3080      \n",
      "_________________________________________________________________\n",
      "dense_1 (Dense)              (None, 280)               78680     \n",
      "_________________________________________________________________\n",
      "dense_reparameterization (De (None, 1)                 561       \n",
      "=================================================================\n",
      "Total params: 82,321\n",
      "Trainable params: 82,321\n",
      "Non-trainable params: 0\n",
      "_________________________________________________________________\n",
      "None\n"
     ]
    }
   ],
   "source": [
    "bnn = BNN(layers, p, C)\n",
    "print bnn.summary()"
   ]
  },
  {
   "cell_type": "markdown",
   "metadata": {},
   "source": [
    "Now train the network by calling the `train` method, which returns the training loss at each epoch and leaves the network trained."
   ]
  },
  {
   "cell_type": "code",
   "execution_count": 13,
   "metadata": {},
   "outputs": [
    {
     "name": "stdout",
     "output_type": "stream",
     "text": [
      "Training...\n",
      "Epoch (100 in total):\n",
      "0 1 2 3 4 5 6 7 8 9 10 11 12 13 14 15 16 17 18 19 20 21 22 23 24 25 26 27 28 29 30 31 32 33 34 35 36 37 38 39 40 41 42 43 44 45 46 47 48 49 50 51 52 53 54 55 56 57 58 59 60 61 62 63 64 65 66 67 68 69 70 71 72 73 74 75 76 77 78 79 80 81 82 83 84 85 86 87 88 89 90 91 92 93 94 95 96 97 98 99 \n"
     ]
    },
    {
     "data": {
      "text/plain": [
       "[40.46538019567971,\n",
       " 37.847519766024455,\n",
       " 35.48522221945166,\n",
       " 33.201390971982384,\n",
       " 31.002932284905658,\n",
       " 28.90117103297536,\n",
       " 26.96069052936585,\n",
       " 25.084539746850485,\n",
       " 23.290096856714264,\n",
       " 21.678050211774625,\n",
       " 20.31606137655615,\n",
       " 19.004250258934206,\n",
       " 17.88705845576961,\n",
       " 16.88511187468118,\n",
       " 16.21162632810391,\n",
       " 15.479320514492873,\n",
       " 15.019273672646623,\n",
       " 14.72988888887855,\n",
       " 14.385550789716767,\n",
       " 14.170207453937065,\n",
       " 14.00548975254462,\n",
       " 13.870091508074504,\n",
       " 13.739857247205284,\n",
       " 13.626104979011101,\n",
       " 13.474315957325262,\n",
       " 13.489524205525717,\n",
       " 13.404007310789774,\n",
       " 13.301255784383635,\n",
       " 13.259762339475678,\n",
       " 13.230636350507659,\n",
       " 13.094766328005287,\n",
       " 13.109441613763329,\n",
       " 13.133456150690714,\n",
       " 13.08612942889454,\n",
       " 13.0122336081373,\n",
       " 13.033183566923064,\n",
       " 13.020998035989157,\n",
       " 12.989647479561286,\n",
       " 12.938125736345121,\n",
       " 12.909810665177137,\n",
       " 12.83632230758667,\n",
       " 12.866611697809484,\n",
       " 12.880908588083779,\n",
       " 12.811712311535347,\n",
       " 12.888660673203507,\n",
       " 12.851621600670542,\n",
       " 12.81945565657887,\n",
       " 12.837579161171021,\n",
       " 12.791076243408327,\n",
       " 12.832665656640277,\n",
       " 12.73813061016362,\n",
       " 12.746374163201185,\n",
       " 12.727543840563394,\n",
       " 12.74158409940518,\n",
       " 12.73636410682182,\n",
       " 12.70022251741673,\n",
       " 12.685500724528863,\n",
       " 12.683351838491797,\n",
       " 12.671291787449906,\n",
       " 12.687429831279971,\n",
       " 12.711559574778487,\n",
       " 12.702853229956899,\n",
       " 12.715829793030654,\n",
       " 12.70934567606546,\n",
       " 12.644356876854005,\n",
       " 12.673702079106153,\n",
       " 12.65466756549308,\n",
       " 12.646643444774597,\n",
       " 12.61744156504065,\n",
       " 12.6374121448858,\n",
       " 12.620714311677267,\n",
       " 12.657591742228686,\n",
       " 12.63659716621647,\n",
       " 12.5942851508536,\n",
       " 12.641046667486671,\n",
       " 12.595168724292662,\n",
       " 12.58388919946624,\n",
       " 12.653176838789529,\n",
       " 12.597243196595976,\n",
       " 12.561309403520289,\n",
       " 12.546088994033937,\n",
       " 12.556754680183845,\n",
       " 12.546600211926592,\n",
       " 12.607551196726357,\n",
       " 12.602287352569704,\n",
       " 12.523782164100709,\n",
       " 12.569632910131439,\n",
       " 12.558442270852685,\n",
       " 12.56773375883335,\n",
       " 12.544105390223061,\n",
       " 12.586904207865397,\n",
       " 12.552794491372458,\n",
       " 12.548622676027499,\n",
       " 12.525432408340578,\n",
       " 12.546004702405233,\n",
       " 12.546039842977756,\n",
       " 12.530838156134132,\n",
       " 12.524139373283075,\n",
       " 12.520969359855341,\n",
       " 12.516771892221962]"
      ]
     },
     "execution_count": 13,
     "metadata": {},
     "output_type": "execute_result"
    }
   ],
   "source": [
    "n_epochs = 100\n",
    "batch_size = 25\n",
    "bnn.train(x_train_mat, y_train_mat, n_epochs, batch_size)"
   ]
  },
  {
   "cell_type": "markdown",
   "metadata": {},
   "source": [
    "Evaluate the model by taking MC samples from the posterior for the test set. Plot the resulting test set accuracy for each set of samples."
   ]
  },
  {
   "cell_type": "code",
   "execution_count": 14,
   "metadata": {
    "scrolled": true
   },
   "outputs": [
    {
     "name": "stdout",
     "output_type": "stream",
     "text": [
      "Sampling (100 total)...\n",
      "100  done\n",
      "average accuracy across 100 samples: 75.592%\n",
      "\n"
     ]
    },
    {
     "data": {
      "text/plain": [
       "array([0.75631886, 0.75631886, 0.75567077, 0.75648088, 0.75631886,\n",
       "       0.75567077, 0.75631886, 0.75631886, 0.75648088, 0.75631886,\n",
       "       0.75631886, 0.75648088, 0.75631886, 0.75648088, 0.75437459,\n",
       "       0.75648088, 0.75502268, 0.75486066, 0.75518471, 0.75648088,\n",
       "       0.75502268, 0.75631886, 0.75631886, 0.75631886, 0.75567077,\n",
       "       0.75583279, 0.75631886, 0.75550875, 0.75631886, 0.75648088,\n",
       "       0.75599482, 0.75567077, 0.75567077, 0.75648088, 0.75631886,\n",
       "       0.75518471, 0.75615684, 0.75648088, 0.75583279, 0.75599482,\n",
       "       0.75631886, 0.75631886, 0.75631886, 0.75567077, 0.75583279,\n",
       "       0.75583279, 0.75583279, 0.75631886, 0.75648088, 0.75502268,\n",
       "       0.75567077, 0.75631886, 0.75567077, 0.75583279, 0.75631886,\n",
       "       0.75486066, 0.75648088, 0.75502268, 0.75583279, 0.75648088,\n",
       "       0.75518471, 0.75583279, 0.75631886, 0.75518471, 0.75631886,\n",
       "       0.75583279, 0.75534673, 0.75453662, 0.75567077, 0.75599482,\n",
       "       0.75648088, 0.75567077, 0.75631886, 0.75631886, 0.75631886,\n",
       "       0.75518471, 0.75648088, 0.75648088, 0.75615684, 0.75567077,\n",
       "       0.75631886, 0.75567077, 0.75567077, 0.75631886, 0.75453662,\n",
       "       0.75567077, 0.75550875, 0.75631886, 0.75567077, 0.75567077,\n",
       "       0.75486066, 0.75599482, 0.75583279, 0.75502268, 0.75583279,\n",
       "       0.75583279, 0.75583279, 0.75648088, 0.75631886, 0.75648088])"
      ]
     },
     "execution_count": 14,
     "metadata": {},
     "output_type": "execute_result"
    },
    {
     "data": {
      "image/png": "[encoded data removed]",
      "text/plain": [
       "<matplotlib.figure.Figure at 0x7efbf072dd10>"
      ]
     },
     "metadata": {},
     "output_type": "display_data"
    }
   ],
   "source": [
    "# Display test accuracy\n",
    "\n",
    "# average accuracy across 100 samples for binary class problem (Low v. Medium/High)\n",
    "# n_epochs = 100, batch_size = 25\n",
    "# all variables: 75.503%\n",
    "# all variables, less num. priors: 67.489%\n",
    "# num. priors only: 68.237%\n",
    "\n",
    "n_test_samples = 100\n",
    "test_logits = bnn.sample_logits(x_test_mat, n_test_samples)\n",
    "accuracy_hist(test_logits, y_test_mat)"
   ]
  },
  {
   "cell_type": "markdown",
   "metadata": {},
   "source": [
    "## RATE\n",
    "\n",
    "Now compute RATE. Start with the means and covariances of the final layer. Then get the network output at the penultimate layer, `H`, and use it to compute the means and covariances of the multivariate effect size analgoues."
   ]
  },
  {
   "cell_type": "code",
   "execution_count": 15,
   "metadata": {
    "scrolled": true
   },
   "outputs": [
    {
     "name": "stdout",
     "output_type": "stream",
     "text": [
      "0\n"
     ]
    }
   ],
   "source": [
    "M_W, V_W, b = bnn.var_params() # Means and covariances of the variational parameters (final layer weight matrix elements)\n",
    "X = x_test_mat # Using the whole test set\n",
    "H = bnn.compute_H(X) # (Deterministic) values of penultimate network layer\n",
    "effect_size = 'covariance'  # use covariance analogue\n",
    "M_B, V_B = compute_B(X, H, M_W, V_W, b, C, effect_size_analogue=effect_size) # Means and covariances of the effect size analogues\n",
    "rate = [RATE(mu_c=M_B[c,:], Lambda_c=V_B[c,:,:]) for c in range(C)] # Per-class RATE values. First order centrality."
   ]
  },
  {
   "cell_type": "code",
   "execution_count": 16,
   "metadata": {
    "scrolled": true
   },
   "outputs": [
    {
     "data": {
      "image/png": "[encoded data removed]",
      "text/plain": [
       "<matplotlib.figure.Figure at 0x7efbefb8b390>"
      ]
     },
     "metadata": {},
     "output_type": "display_data"
    }
   ],
   "source": [
    "# Plot effect size means\n",
    "\n",
    "if not multiclass:\n",
    "    # binary case\n",
    "    esa_dat=pd.DataFrame(data = {'esa': M_B.flatten(), 'variance': list(np.diagonal(V_B[0]).T)})\n",
    "    esa_dat['feature'] = bnn_predictors\n",
    "\n",
    "    fig_esa = sns.barplot(x=\"feature\", y=\"esa\", color = \"gray\", data=esa_dat)\n",
    "    fig_esa.set_xticklabels(fig_esa.get_xticklabels(), rotation = 45, ha=\"right\")\n",
    "else: \n",
    "    # three responses\n",
    "    fig, axs = plt.subplots(1, 3)\n",
    "    for response in np.arange(C):\n",
    "        esa_dat=pd.DataFrame(data = {'esa': M_B[response, :].flatten(), 'variance': list(np.diagonal(V_B[response, :, :]).T)})\n",
    "        esa_dat['feature'] = bnn_predictors\n",
    "\n",
    "        fig_esa = sns.barplot(x=\"feature\", y=\"esa\", color = \"gray\", data=esa_dat, ax=axs[response])\n",
    "        fig_esa.set_xticklabels(fig_esa.get_xticklabels(), rotation = 45, ha=\"right\")\n",
    "        fig_esa.set(title = response_columns[response])\n",
    "    \n",
    "# save effect size analogue posterior means and variance posterior if num. priors not shuffled and response is binary\n",
    "\n",
    "# if not multiclass: \n",
    "#     if not shuffle and not normalsmp and num_ProPublica_features == len(bnn_predictors):\n",
    "#         # using all predictors\n",
    "#         esa_dat.to_csv(\"COMPAS_BNN_ESA_Variance.csv\", index=False) \n",
    "\n",
    "#     if not shuffle and not normalsmp and num_ProPublica_features > len(bnn_predictors):\n",
    "#         # omitting priors_count\n",
    "#         esa_dat.to_csv(\"COMPAS_BNN_ESA_Variance_numPriorsOmitted.csv\", index=False)     \n",
    "\n",
    "#     if shuffle and not normalsmp:\n",
    "#         # shuffling priors count\n",
    "#         esa_dat.to_csv(\"COMPAS_BNN_ESA_Variance_numPriorsShuffled.csv\", index=False) \n",
    "\n",
    "#     if shuffle and normalsmp:\n",
    "#         # priors count ~ n(0, 1)\n",
    "#         esa_dat.to_csv(\"COMPAS_BNN_ESA_Variance_numPriorsNormalSmp.csv\", index=False) "
   ]
  },
  {
   "cell_type": "code",
   "execution_count": 241,
   "metadata": {},
   "outputs": [
    {
     "data": {
      "image/png": "[encoded data removed]",
      "text/plain": [
       "<Figure size 432x288 with 3 Axes>"
      ]
     },
     "metadata": {
      "needs_background": "light"
     },
     "output_type": "display_data"
    }
   ],
   "source": [
    "# Plot variance of effect size\n",
    "\n",
    "if not multiclass:\n",
    "    # binary case\n",
    "    fig_var = sns.barplot(x=\"feature\", y=\"variance\", color = \"gray\", data=esa_dat)\n",
    "    fig_var.set_xticklabels(fig_var.get_xticklabels(), rotation = 45, ha=\"right\")\n",
    "else: \n",
    "    # three responses\n",
    "    fig, axs = plt.subplots(1, 3)\n",
    "    for response in np.arange(C):\n",
    "        esa_dat=pd.DataFrame(data = {'esa': M_B[response, :].flatten(), 'variance': list(np.diagonal(V_B[response, :, :]).T)})\n",
    "        esa_dat['feature'] = bnn_predictors\n",
    "\n",
    "        fig_esa = sns.barplot(x=\"feature\", y=\"variance\", color = \"gray\", data=esa_dat, ax=axs[response])\n",
    "        fig_esa.set_xticklabels(fig_esa.get_xticklabels(), rotation = 45, ha=\"right\")\n",
    "        fig_esa.set(title = response_columns[response])"
   ]
  },
  {
   "cell_type": "code",
   "execution_count": 17,
   "metadata": {
    "scrolled": true
   },
   "outputs": [
    {
     "name": "stderr",
     "output_type": "stream",
     "text": [
      "/home/jonathan/miniconda2/lib/python2.7/site-packages/ipykernel_launcher.py:80: DeprecationWarning: \n",
      ".ix is deprecated. Please use\n",
      ".loc for label based indexing or\n",
      ".iloc for positional indexing\n",
      "\n",
      "See the documentation here:\n",
      "http://pandas.pydata.org/pandas-docs/stable/indexing.html#ix-indexer-is-deprecated\n",
      "/home/jonathan/miniconda2/lib/python2.7/site-packages/pandas/core/indexing.py:890: DeprecationWarning: \n",
      ".ix is deprecated. Please use\n",
      ".loc for label based indexing or\n",
      ".iloc for positional indexing\n",
      "\n",
      "See the documentation here:\n",
      "http://pandas.pydata.org/pandas-docs/stable/indexing.html#ix-indexer-is-deprecated\n",
      "  retval = getattr(retval, self.name)._getitem_axis(key, axis=i)\n"
     ]
    }
   ],
   "source": [
    "# Assemble RATE dataset with covariate names\n",
    "# RATE vectors should agree with one another.\n",
    "# Be mindful that from here on, when organizing RATE values into dataset to save, \n",
    "# if a variable was removed, it is hardcoded in some places that that variable is priors_count.\n",
    "# Modify as desired.\n",
    "\n",
    "rate_data = pd.DataFrame(np.transpose([rate[c] for c in range(C)]), \n",
    "                         # rate_class0 is the label in the binary case because there's only 1 response vector.\n",
    "                         columns=list(['rate_class' + str(c) for c in range(C)]))\n",
    "\n",
    "column_dict = {#'two_year_recid': 'Reoffended (Y/N)', \n",
    "          'crime_factor_M': 'Severity of Charge: M', \n",
    "          'priors_count': 'Num. Priors', \n",
    "          'priors_count_shuffled': 'Num. Priors Shuffled',\n",
    "          'priors_count_normalsmp': 'Num. Priors Standard Normal Sample', \n",
    "          'age_factor_Greater than 45': '> 45 Yrs. Old', \n",
    "          'age_factor_Less than 25': '< 25 Yrs. Old', \n",
    "          'race_factor_African-American': 'Race: African-American', \n",
    "          'race_factor_Asian': 'Race: Asian', \n",
    "          'race_factor_Hispanic': 'Race: Hispanic', \n",
    "          'race_factor_Native American': 'Race: Native-American', \n",
    "          'race_factor_Other': 'Race: Other', \n",
    "          'gender_factor_Female': 'Female'}  \n",
    "rate_data['var_names'] = bnn_predictors\n",
    "rate_data['feature'] = [column_dict[col] for col in rate_data['var_names']]\n",
    "\n",
    "# if using all features, \n",
    "# want to remember this ordering \n",
    "# first order centrality, all variables included\n",
    "# when you run this script, be sure to run that first!\n",
    "# this doesn't matter in binary case, but note that for multiclass, this ordering \n",
    "#    goes by importance for predicting score=Low.\n",
    "if num_ProPublica_features == len(bnn_predictors):\n",
    "    rate_data.sort_values(by=['rate_class0'], inplace=True, ascending=False)\n",
    "\n",
    "    # save sort order\n",
    "    all_features_order = rate_data['feature']\n",
    "    sorterIndex = dict(zip(all_features_order, range(len(all_features_order))))\n",
    "\n",
    "rate_data['first_order_ranking'] = rate_data['feature'].map(sorterIndex)\n",
    "rate_data.sort_values(by = ['first_order_ranking'], inplace=True)\n",
    "centrality_label = 'First'\n",
    "\n",
    "# save this data for when we write to csv\n",
    "if shuffle and not normalsmp: \n",
    "    # priors count is shuffled\n",
    "    rate_data_temp = rate_data.copy()\n",
    "    rate_data_temp['var_names'].replace(\"priors_count_shuffled\", \"priors_count\", inplace=True)\n",
    "    identifying_tag = \"_numPriorsShuffled\"\n",
    "elif shuffle and normalsmp: \n",
    "    # priors count is a N(0, 1) sample\n",
    "    rate_data_temp = rate_data.copy()\n",
    "    rate_data_temp['var_names'].replace(\"priors_count_normalsmp\", \"priors_count\", inplace=True)\n",
    "    identifying_tag = \"_numPriorsNormalSmp\"\n",
    "elif num_ProPublica_features > len(bnn_predictors):\n",
    "    # we are omitting priors_count from the analysis\n",
    "    print \"num. priors omitted from analysis\"\n",
    "    rate_data_temp = rate_data.copy()\n",
    "    line_to_append = dict.fromkeys(rate_data_temp.columns)\n",
    "    line_to_append['var_names'] = 'priors_count'\n",
    "    line_to_append['feature'] = column_dict['priors_count']\n",
    "    line_to_append['rate_class0'] = 0\n",
    "    line_to_append['rate_class1'] = 0\n",
    "    line_to_append['rate_class2'] = 0\n",
    "    rate_data_temp = rate_data_temp.append(line_to_append, ignore_index=True)\n",
    "    identifying_tag = \"_numPriorsOmitted\"\n",
    "elif num_ProPublica_features == len(bnn_predictors):\n",
    "    # including all predictors\n",
    "    identifying_tag = \"\"\n",
    "\n",
    "# modify rate_data_csv!\n",
    "if not multiclass: \n",
    "    # binary case\n",
    "    \n",
    "    if shuffle or num_ProPublica_features > len(bnn_predictors): \n",
    "        # if we're shuffled num. priors or omitting it\n",
    "        rate_data_csv = rate_data_csv.merge(rate_data_temp.ix[:, [\"var_names\", \"rate_class0\"]], on=[\"var_names\"])\n",
    "    elif num_ProPublica_features == len(bnn_predictors):\n",
    "        # all variables are included in the analysis\n",
    "        rate_data_csv = rate_data_csv.merge(rate_data.ix[:, [\"var_names\", \"rate_class0\"]], on=[\"var_names\"])\n",
    "        \n",
    "    rate_data_csv.rename(index=str, columns={\"rate_class0\": \"rate_class0_1stOrder\" + identifying_tag}, \n",
    "                        inplace=True)\n",
    "else: \n",
    "    # three responses\n",
    "    \n",
    "    if shuffle or num_ProPublica_features > len(bnn_predictors): \n",
    "        # if we're shuffled num. priors or omitting it\n",
    "        rate_data_csv = rate_data_csv.merge(rate_data_temp.ix[:, [\"var_names\", \"rate_class0\", \"rate_class1\", \"rate_class2\"]], \n",
    "                                            on=[\"var_names\"])\n",
    "    elif num_ProPublica_features == len(bnn_predictors):\n",
    "        # all variables are included in the analysis \n",
    "        rate_data_csv = rate_data_csv.merge(rate_data.ix[:, [\"var_names\", \"rate_class0\", \"rate_class1\", \"rate_class2\"]], \n",
    "                                            on=[\"var_names\"])\n",
    "    \n",
    "    rate_data_csv.rename(index=str, columns={\"rate_class0\": \"rate_class0_1stOrder\" + identifying_tag, \n",
    "                                        \"rate_class1\": \"rate_class1_1stOrder\" + identifying_tag, \n",
    "                                        \"rate_class2\": \"rate_class2_1stOrder\" + identifying_tag}, inplace=True)"
   ]
  },
  {
   "cell_type": "code",
   "execution_count": 18,
   "metadata": {},
   "outputs": [
    {
     "data": {
      "image/png": "[encoded data removed]",
      "text/plain": [
       "<matplotlib.figure.Figure at 0x7efbcc74f4d0>"
      ]
     },
     "metadata": {},
     "output_type": "display_data"
    }
   ],
   "source": [
    "# Plot RATE values\n",
    "\n",
    "if not multiclass: \n",
    "    # binary case\n",
    "    fig = sns.barplot(x=\"feature\", y=\"rate_class0\", color = \"gray\", data=rate_data)\n",
    "    fig.set_xticklabels(fig.get_xticklabels(), rotation = 45, ha=\"right\")\n",
    "    for item in fig.get_xticklabels():\n",
    "        item.set_rotation_mode('anchor')\n",
    "    if shuffle:  # if we shuffled num. priors\n",
    "        title_text = 'Classifying High Recidivism Risk Scores\\n' + centrality_label + ' Order Centrality\\nNum. Priors Shuffled'\n",
    "    else: \n",
    "        title_text = 'Classifying High Recidivism Risk Scores\\n' + centrality_label + ' Order Centrality'\n",
    "    fig.set(xlabel='Feature', ylabel='RATE', title=title_text)\n",
    "    fig.axhline(y = 1.0 / len(x_train.columns), ls='--', color = \"red\")  # add line at 1/p (all variables equally important)\n",
    "else: \n",
    "    # three responses\n",
    "    if shuffle:  # if we shuffled num. priors\n",
    "        print 'Classifying High Recidivism Risk Scores\\n' + centrality_label + ' Order Centrality\\nNum. Priors Shuffled'\n",
    "    else: \n",
    "        print 'Classifying High Recidivism Risk Scores\\n' + centrality_label + ' Order Centrality'\n",
    "            \n",
    "    fig, axs = plt.subplots(1, 3)\n",
    "    for response in np.arange(C):\n",
    "        fig = sns.barplot(x=\"feature\", y=\"rate_class\" + str(response), color = \"gray\", data=rate_data, ax=axs[response])\n",
    "        fig.set_xticklabels(fig.get_xticklabels(), rotation = 45, ha=\"right\")\n",
    "        for item in fig.get_xticklabels():\n",
    "            item.set_rotation_mode('anchor')\n",
    "        fig.set(xlabel='Feature', ylabel='RATE', title=response_columns[response])\n",
    "        fig.axhline(y = 1.0 / len(x_train.columns), ls='--', color = \"red\")  # add line at 1/p (all variables equally important)"
   ]
  },
  {
   "cell_type": "code",
   "execution_count": 19,
   "metadata": {},
   "outputs": [
    {
     "name": "stdout",
     "output_type": "stream",
     "text": [
      "0\n"
     ]
    },
    {
     "name": "stderr",
     "output_type": "stream",
     "text": [
      "/home/jonathan/miniconda2/lib/python2.7/site-packages/ipykernel_launcher.py:75: DeprecationWarning: \n",
      ".ix is deprecated. Please use\n",
      ".loc for label based indexing or\n",
      ".iloc for positional indexing\n",
      "\n",
      "See the documentation here:\n",
      "http://pandas.pydata.org/pandas-docs/stable/indexing.html#ix-indexer-is-deprecated\n",
      "/home/jonathan/miniconda2/lib/python2.7/site-packages/pandas/core/indexing.py:890: DeprecationWarning: \n",
      ".ix is deprecated. Please use\n",
      ".loc for label based indexing or\n",
      ".iloc for positional indexing\n",
      "\n",
      "See the documentation here:\n",
      "http://pandas.pydata.org/pandas-docs/stable/indexing.html#ix-indexer-is-deprecated\n",
      "  retval = getattr(retval, self.name)._getitem_axis(key, axis=i)\n"
     ]
    }
   ],
   "source": [
    "# Second order centrality (condition on num. priors effect size = 0)\n",
    "\n",
    "if effect_size == 'linear': \n",
    "    var_to_nullify = np.array(rate_data.ix[rate_data['first_order_ranking'] == 0, 'var_names'])[0]\n",
    "    nullified_var_label = \"_pseudoInv\"\n",
    "elif not shuffle and num_ProPublica_features == len(bnn_predictors): \n",
    "    # all variables are included in the analysis\n",
    "    var_to_nullify = 'priors_count'\n",
    "    nullified_var_label = ''\n",
    "elif not shuffle and num_ProPublica_features > len(bnn_predictors): \n",
    "    # priors count is omitted from the analysis\n",
    "    var_to_nullify = 'race_factor_African-American'\n",
    "    nullified_var_label = '_numPriorsOmitted'    \n",
    "elif shuffle and not normalsmp:\n",
    "    # priors count is permuted\n",
    "    var_to_nullify = 'priors_count_shuffled'\n",
    "    nullified_var_label = '_numPriorsShuffled'\n",
    "elif shuffle and normalsmp:\n",
    "    # priors count is a N(0, 1) sample\n",
    "    var_to_nullify = 'priors_count_normalsmp'\n",
    "    nullified_var_label = '_numPriorsNormalSmp'\n",
    "\n",
    "priors_count_idx = list(bnn_predictors).index(var_to_nullify)\n",
    "rate = [RATE(mu_c=M_B[c,:], Lambda_c=V_B[c,:,:], nullify=[priors_count_idx]) for c in range(C)] # Per-class RATE values. 2nd order\n",
    "\n",
    "rate_data = pd.DataFrame(np.transpose([rate[c] for c in range(C)]), \n",
    "                         columns=list(['rate_class' + str(c) for c in range(C)]))\n",
    "\n",
    "var_names = list(bnn_predictors)\n",
    "var_names.remove(var_to_nullify)\n",
    "rate_data['var_names'] = var_names\n",
    "if not multiclass: \n",
    "    # binary case\n",
    "    rate_data.append({'rate_class0': 0, 'var_names': var_to_nullify}, ignore_index=True)\n",
    "else: \n",
    "    # three responses\n",
    "    rate_data.append({'rate_class0': 0, 'rate_class1': 0, 'rate_class2': 0, 'var_names': var_to_nullify}, ignore_index=True)\n",
    "rate_data['feature'] = [column_dict[col] for col in rate_data['var_names']]\n",
    "\n",
    "# include nullified variable on plot, for visual continuity, though it has no RATE value\n",
    "missing_features = set(bnn_predictors) - set(var_names)\n",
    "centrality_label = {2:'Second', 3:'Third', 4:'Fourth', 5:'Fifth', 6:'Sixth', 7:'Seventh', 8:'Eighth'}[len(missing_features)+1]\n",
    "for var in missing_features:\n",
    "    if not multiclass: \n",
    "        # binary case\n",
    "        rate_data = rate_data.append({'var_names': var, \n",
    "                                     'rate_class0': 0}, ignore_index=True)\n",
    "    else: \n",
    "        # three responses\n",
    "        rate_data = rate_data.append({'var_names': var, \n",
    "                                     'rate_class0': 0, \n",
    "                                     'rate_class1': 0, \n",
    "                                     'rate_class2': 0}, ignore_index=True)\n",
    "        \n",
    "# order by first order centrality   \n",
    "# you have to have previously run first order centrality!\n",
    "rate_data['first_order_ranking'] = rate_data['feature'].map(sorterIndex)\n",
    "rate_data.sort_values(by = ['first_order_ranking'], inplace=True)\n",
    "\n",
    "# save this data for when we write to csv\n",
    "rate_data_temp = rate_data.copy()\n",
    "if var_to_nullify == 'race_factor_African-American':\n",
    "    # if priors count is omitted fully from the analysis\n",
    "    line_to_append = dict.fromkeys(rate_data_temp.columns)\n",
    "    line_to_append['var_names'] = 'priors_count'\n",
    "    line_to_append['feature'] = column_dict['priors_count']\n",
    "    line_to_append['rate_class0'] = 0\n",
    "    if multiclass: \n",
    "        line_to_append['rate_class1'] = 0\n",
    "        line_to_append['rate_class2'] = 0\n",
    "    rate_data_temp = rate_data_temp.append(line_to_append, ignore_index=True)\n",
    "\n",
    "if not multiclass: \n",
    "    # binary case\n",
    "    rate_data_csv = rate_data_csv.merge(rate_data_temp.ix[:, ['var_names', 'rate_class0']], on = ['var_names'])\n",
    "    rate_data_csv.rename(index=str, columns={\"rate_class0\": \"rate_class0_2ndOrder\" + nullified_var_label}, \n",
    "                        inplace=True)\n",
    "else: \n",
    "    # three responses\n",
    "    rate_data_csv = rate_data_csv.merge(rate_data_temp.ix[:, ['var_names', 'rate_class0', 'rate_class1', 'rate_class2']], \n",
    "                                        on = ['var_names'])\n",
    "    rate_data_csv.rename(index=str, columns={\"rate_class0\": \"rate_class0_2ndOrder\" + nullified_var_label, \n",
    "                                            \"rate_class1\": \"rate_class1_2ndOrder\" + nullified_var_label, \n",
    "                                            \"rate_class2\": \"rate_class2_2ndOrder\" + nullified_var_label}, \n",
    "                        inplace=True)"
   ]
  },
  {
   "cell_type": "code",
   "execution_count": 20,
   "metadata": {},
   "outputs": [
    {
     "data": {
      "image/png": "[encoded data removed]",
      "text/plain": [
       "<matplotlib.figure.Figure at 0x7efbefd3aed0>"
      ]
     },
     "metadata": {},
     "output_type": "display_data"
    }
   ],
   "source": [
    "# Plot 2nd Order RATE values\n",
    "\n",
    "if not multiclass: \n",
    "    # binary case\n",
    "    fig = sns.barplot(x=\"feature\", y=\"rate_class0\", color = \"gray\", data=rate_data)\n",
    "    fig.set_xticklabels(fig.get_xticklabels(), rotation = 45, ha=\"right\")\n",
    "    for item in fig.get_xticklabels():\n",
    "    #     item.set_rotation(45)\n",
    "        item.set_rotation_mode('anchor')\n",
    "    fig.set(xlabel='Feature', ylabel='RATE', title='Classifying High Recidivism Risk Scores\\n' + \n",
    "           centrality_label + ' Order Centrality')\n",
    "    fig.axhline(y = 1.0 / (len(bnn_predictors) - 1), ls='--', color = \"red\")  # add line at 1/p (all variables equally important)\n",
    "else: \n",
    "    # three responses\n",
    "    print 'Classifying High Recidivism Risk Scores\\n' + centrality_label + ' Order Centrality'\n",
    "    fig, axs = plt.subplots(1, 3)\n",
    "    for response in np.arange(C):\n",
    "        fig = sns.barplot(x=\"feature\", y=\"rate_class\" + str(response), color = \"gray\", data=rate_data, ax=axs[response])\n",
    "        fig.set_xticklabels(fig.get_xticklabels(), rotation = 45, ha=\"right\")\n",
    "        for item in fig.get_xticklabels():\n",
    "            item.set_rotation_mode('anchor')\n",
    "        fig.set(xlabel='Feature', ylabel='RATE', title=response_columns[response])\n",
    "        fig.axhline(y = 1.0 / len(x_train.columns), ls='--', color = \"red\")  # add line at 1/p (all variables equally important)"
   ]
  },
  {
   "cell_type": "code",
   "execution_count": 21,
   "metadata": {
    "collapsed": true
   },
   "outputs": [],
   "source": [
    "# grab feature names for rate data to save\n",
    "\n",
    "column_dict = {#'two_year_recid': 'Reoffended (Y/N)', \n",
    "                  'crime_factor_M': 'Severity of Charge: M', \n",
    "                  'priors_count': 'Num. Priors', \n",
    "                  'age_factor_Greater than 45': '> 45 Yrs. Old', \n",
    "                  'age_factor_Less than 25': '< 25 Yrs. Old', \n",
    "                  'race_factor_African-American': 'Race: African-American', \n",
    "                  'race_factor_Asian': 'Race: Asian', \n",
    "                  'race_factor_Hispanic': 'Race: Hispanic', \n",
    "                  'race_factor_Native American': 'Race: Native-American', \n",
    "                  'race_factor_Other': 'Race: Other', \n",
    "                  'gender_factor_Female': 'Female'}\n",
    "\n",
    "rate_data_csv['feature'] = [column_dict[col] for col in rate_data_csv['var_names']]"
   ]
  },
  {
   "cell_type": "code",
   "execution_count": 249,
   "metadata": {
    "collapsed": true
   },
   "outputs": [],
   "source": [
    "# Export RATE values\n",
    "\n",
    "# if not multiclass: \n",
    "#     # binary case\n",
    "#     rate_data_csv.to_csv(\"COMPAS_BNN_RATE.csv\", index=False)\n",
    "# else:\n",
    "#     # three responses\n",
    "#     rate_data_csv.to_csv(\"COMPAS_BNN_RATE_multinomialResponse.csv\", index=False)"
   ]
  }
 ],
 "metadata": {
  "kernelspec": {
   "display_name": "Python 2",
   "language": "python",
   "name": "python2"
  },
  "language_info": {
   "codemirror_mode": {
    "name": "ipython",
    "version": 2
   },
   "file_extension": ".py",
   "mimetype": "text/x-python",
   "name": "python",
   "nbconvert_exporter": "python",
   "pygments_lexer": "ipython2",
   "version": "2.7.15"
  }
 },
 "nbformat": 4,
 "nbformat_minor": 2
}
